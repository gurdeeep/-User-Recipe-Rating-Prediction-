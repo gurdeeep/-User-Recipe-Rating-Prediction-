{
 "cells": [
  {
   "cell_type": "code",
   "execution_count": null,
   "metadata": {
    "_cell_guid": "b1076dfc-b9ad-4769-8c92-a6c4dae69d19",
    "_uuid": "8f2839f25d086af736a60e9eeb907d3b93b6e0e5",
    "execution": {
     "iopub.execute_input": "2024-04-10T13:55:29.953831Z",
     "iopub.status.busy": "2024-04-10T13:55:29.953446Z",
     "iopub.status.idle": "2024-04-10T13:55:30.305235Z",
     "shell.execute_reply": "2024-04-10T13:55:30.304359Z",
     "shell.execute_reply.started": "2024-04-10T13:55:29.953802Z"
    },
    "id": "-J4rzEBLnZcx",
    "trusted": true
   },
   "outputs": [],
   "source": [
    "# This Python 3 environment comes with many helpful analytics libraries installed\n",
    "# It is defined by the kaggle/python Docker image: https://github.com/kaggle/docker-python\n",
    "# For example, here's several helpful packages to load\n",
    "\n",
    "import numpy as np # linear algebra\n",
    "import pandas as pd # data processing, CSV file I/O (e.g. pd.read_csv)\n",
    "\n",
    "# Input data files are available in the read-only \"../input/\" directory\n",
    "# For example, running this (by clicking run or pressing Shift+Enter) will list all files under the input directory\n",
    "\n",
    "import os\n",
    "for dirname, _, filenames in os.walk('/kaggle/input'):\n",
    "    for filename in filenames:\n",
    "        print(os.path.join(dirname, filename))\n",
    "\n",
    "\n",
    "# You can write up to 20GB to the current directory (/kaggle/working/) that gets preserved as output when you create a version using \"Save & Run All\"\n",
    "# You can also write temporary files to /kaggle/temp/, but they won't be saved outside of the current session"
   ]
  },
  {
   "cell_type": "markdown",
   "metadata": {},
   "source": [
    "## About Me\n",
    "\n",
    "Info | Description\n",
    "---|---\n",
    "Name| Gurdeep \n",
    "Roll no.| 22f3001660\n",
    "Course Code | CS2008p\n",
    "Email| 22f3001660@ds.study.iitm.ac.in\n",
    "\n",
    "## Data Information\n",
    "\n",
    "- This can be considered under the first step of ML project discussed, looking at the bigger picture\n",
    "\n",
    "- The problem, discussed above, is a regression problem. So, we would be needed to apply a regression model to the data to get the desired output\n",
    "\n",
    "- Evaluation is to be done based on the accuracy_score metric\n",
    "***\n",
    "- Three files have been provided to us in the competition:\n",
    "\n",
    "1. **train_data.csv**\n",
    "\n",
    "- This contains the train_dataing data in the .csv format\n",
    "- Contains our target column as \"Rating\"\n",
    "- Features to be discussed during EDA\n",
    "\n",
    "2. **test_data.csv**\n",
    "- test_data data on which evaluation is to be performed\n",
    "\n",
    "3. **sample.csv**\n",
    "- Sample submission"
   ]
  },
  {
   "cell_type": "markdown",
   "metadata": {},
   "source": [
    "# Importing the train and test data\n",
    "- Let's load the dataset uploaded in this notebook for further analysis."
   ]
  },
  {
   "cell_type": "code",
   "execution_count": 110,
   "metadata": {
    "execution": {
     "iopub.execute_input": "2024-04-10T13:55:30.307491Z",
     "iopub.status.busy": "2024-04-10T13:55:30.307037Z",
     "iopub.status.idle": "2024-04-10T13:55:30.514173Z",
     "shell.execute_reply": "2024-04-10T13:55:30.513396Z",
     "shell.execute_reply.started": "2024-04-10T13:55:30.307458Z"
    },
    "id": "ckysxWOnnZcy",
    "trusted": true
   },
   "outputs": [],
   "source": [
    "test_data = pd.read_csv(\"test.csv\")\n",
    "train_data = pd.read_csv(\"train.csv\")"
   ]
  },
  {
   "cell_type": "markdown",
   "metadata": {},
   "source": [
    "# Exploratory Data Analysis\n",
    "\n",
    "Let's leverage the data card to quickly identify the data's column types. We'll focus on analyzing the statistical summaries of the numerical columns to glean insights without getting bogged down in detailed explanations of each variable."
   ]
  },
  {
   "cell_type": "code",
   "execution_count": 111,
   "metadata": {
    "execution": {
     "iopub.execute_input": "2024-04-10T13:55:30.515798Z",
     "iopub.status.busy": "2024-04-10T13:55:30.515423Z",
     "iopub.status.idle": "2024-04-10T13:55:30.537513Z",
     "shell.execute_reply": "2024-04-10T13:55:30.536690Z",
     "shell.execute_reply.started": "2024-04-10T13:55:30.515765Z"
    },
    "id": "ISOoODXIZZKK",
    "outputId": "4a03152a-d9f0-44c6-fcda-055d335acf60",
    "trusted": true
   },
   "outputs": [
    {
     "data": {
      "text/html": [
       "<div>\n",
       "<style scoped>\n",
       "    .dataframe tbody tr th:only-of-type {\n",
       "        vertical-align: middle;\n",
       "    }\n",
       "\n",
       "    .dataframe tbody tr th {\n",
       "        vertical-align: top;\n",
       "    }\n",
       "\n",
       "    .dataframe thead th {\n",
       "        text-align: right;\n",
       "    }\n",
       "</style>\n",
       "<table border=\"1\" class=\"dataframe\">\n",
       "  <thead>\n",
       "    <tr style=\"text-align: right;\">\n",
       "      <th></th>\n",
       "      <th>ID</th>\n",
       "      <th>RecipeNumber</th>\n",
       "      <th>RecipeCode</th>\n",
       "      <th>RecipeName</th>\n",
       "      <th>CommentID</th>\n",
       "      <th>UserID</th>\n",
       "      <th>UserName</th>\n",
       "      <th>UserReputation</th>\n",
       "      <th>CreationTimestamp</th>\n",
       "      <th>ReplyCount</th>\n",
       "      <th>ThumbsUpCount</th>\n",
       "      <th>ThumbsDownCount</th>\n",
       "      <th>Rating</th>\n",
       "      <th>BestScore</th>\n",
       "      <th>Recipe_Review</th>\n",
       "    </tr>\n",
       "  </thead>\n",
       "  <tbody>\n",
       "    <tr>\n",
       "      <th>0</th>\n",
       "      <td>70</td>\n",
       "      <td>71</td>\n",
       "      <td>12259</td>\n",
       "      <td>Banana Bars with Cream Cheese Frosting</td>\n",
       "      <td>sp_aUSaElGf_12259_c_149978</td>\n",
       "      <td>u_1oKVaBmiEKwAFyiHrDLoWpbel0J</td>\n",
       "      <td>misscoffeepot</td>\n",
       "      <td>20</td>\n",
       "      <td>1622717078</td>\n",
       "      <td>0</td>\n",
       "      <td>0</td>\n",
       "      <td>0</td>\n",
       "      <td>5</td>\n",
       "      <td>100</td>\n",
       "      <td>great recipe! I have made them just as written...</td>\n",
       "    </tr>\n",
       "    <tr>\n",
       "      <th>1</th>\n",
       "      <td>72</td>\n",
       "      <td>88</td>\n",
       "      <td>8202</td>\n",
       "      <td>Simple Taco Soup</td>\n",
       "      <td>sp_aUSaElGf_8202_c_310332</td>\n",
       "      <td>u_1oKZeRIXYzGNhGW8OMR3O4lX1ih</td>\n",
       "      <td>MichelleMalone</td>\n",
       "      <td>1</td>\n",
       "      <td>1622717852</td>\n",
       "      <td>0</td>\n",
       "      <td>0</td>\n",
       "      <td>1</td>\n",
       "      <td>5</td>\n",
       "      <td>100</td>\n",
       "      <td>This is an easy and quick recipe that is great...</td>\n",
       "    </tr>\n",
       "    <tr>\n",
       "      <th>2</th>\n",
       "      <td>458</td>\n",
       "      <td>3</td>\n",
       "      <td>2832</td>\n",
       "      <td>Cheeseburger Soup</td>\n",
       "      <td>sp_aUSaElGf_2832_c_206522</td>\n",
       "      <td>u_1oKYHUtdaD48KJCDYq5wfpAUxWz</td>\n",
       "      <td>jeannem32</td>\n",
       "      <td>1</td>\n",
       "      <td>1622717357</td>\n",
       "      <td>0</td>\n",
       "      <td>0</td>\n",
       "      <td>0</td>\n",
       "      <td>3</td>\n",
       "      <td>100</td>\n",
       "      <td>I think I was looking for something extra spec...</td>\n",
       "    </tr>\n",
       "    <tr>\n",
       "      <th>3</th>\n",
       "      <td>7</td>\n",
       "      <td>50</td>\n",
       "      <td>100276</td>\n",
       "      <td>Grilled Huli Huli Chicken</td>\n",
       "      <td>sp_aUSaElGf_100276_c_434088</td>\n",
       "      <td>u_1oKZCQcKQZdQhDVBS7oISc216VA</td>\n",
       "      <td>ds422</td>\n",
       "      <td>1</td>\n",
       "      <td>1622648899</td>\n",
       "      <td>0</td>\n",
       "      <td>0</td>\n",
       "      <td>0</td>\n",
       "      <td>5</td>\n",
       "      <td>100</td>\n",
       "      <td>This is our favorite grilled chicken recipe.  ...</td>\n",
       "    </tr>\n",
       "    <tr>\n",
       "      <th>4</th>\n",
       "      <td>60</td>\n",
       "      <td>12</td>\n",
       "      <td>19731</td>\n",
       "      <td>Cauliflower Soup</td>\n",
       "      <td>sp_aUSaElGf_19731_c_387011</td>\n",
       "      <td>u_1oKd4sudZQPgu6YALiC7bW7mKMs</td>\n",
       "      <td>SusanHoward</td>\n",
       "      <td>1</td>\n",
       "      <td>1622718260</td>\n",
       "      <td>0</td>\n",
       "      <td>0</td>\n",
       "      <td>0</td>\n",
       "      <td>4</td>\n",
       "      <td>100</td>\n",
       "      <td>Great basic recipe. I added 2 teaspoons Tuscan...</td>\n",
       "    </tr>\n",
       "  </tbody>\n",
       "</table>\n",
       "</div>"
      ],
      "text/plain": [
       "    ID  RecipeNumber  RecipeCode                              RecipeName  \\\n",
       "0   70            71       12259  Banana Bars with Cream Cheese Frosting   \n",
       "1   72            88        8202                        Simple Taco Soup   \n",
       "2  458             3        2832                       Cheeseburger Soup   \n",
       "3    7            50      100276               Grilled Huli Huli Chicken   \n",
       "4   60            12       19731                        Cauliflower Soup   \n",
       "\n",
       "                     CommentID                         UserID        UserName  \\\n",
       "0   sp_aUSaElGf_12259_c_149978  u_1oKVaBmiEKwAFyiHrDLoWpbel0J   misscoffeepot   \n",
       "1    sp_aUSaElGf_8202_c_310332  u_1oKZeRIXYzGNhGW8OMR3O4lX1ih  MichelleMalone   \n",
       "2    sp_aUSaElGf_2832_c_206522  u_1oKYHUtdaD48KJCDYq5wfpAUxWz       jeannem32   \n",
       "3  sp_aUSaElGf_100276_c_434088  u_1oKZCQcKQZdQhDVBS7oISc216VA           ds422   \n",
       "4   sp_aUSaElGf_19731_c_387011  u_1oKd4sudZQPgu6YALiC7bW7mKMs     SusanHoward   \n",
       "\n",
       "   UserReputation  CreationTimestamp  ReplyCount  ThumbsUpCount  \\\n",
       "0              20         1622717078           0              0   \n",
       "1               1         1622717852           0              0   \n",
       "2               1         1622717357           0              0   \n",
       "3               1         1622648899           0              0   \n",
       "4               1         1622718260           0              0   \n",
       "\n",
       "   ThumbsDownCount  Rating  BestScore  \\\n",
       "0                0       5        100   \n",
       "1                1       5        100   \n",
       "2                0       3        100   \n",
       "3                0       5        100   \n",
       "4                0       4        100   \n",
       "\n",
       "                                       Recipe_Review  \n",
       "0  great recipe! I have made them just as written...  \n",
       "1  This is an easy and quick recipe that is great...  \n",
       "2  I think I was looking for something extra spec...  \n",
       "3  This is our favorite grilled chicken recipe.  ...  \n",
       "4  Great basic recipe. I added 2 teaspoons Tuscan...  "
      ]
     },
     "execution_count": 111,
     "metadata": {},
     "output_type": "execute_result"
    }
   ],
   "source": [
    "train_data.head()"
   ]
  },
  {
   "cell_type": "code",
   "execution_count": 112,
   "metadata": {
    "execution": {
     "iopub.execute_input": "2024-04-10T13:55:30.541020Z",
     "iopub.status.busy": "2024-04-10T13:55:30.540284Z",
     "iopub.status.idle": "2024-04-10T13:55:30.554732Z",
     "shell.execute_reply": "2024-04-10T13:55:30.553871Z",
     "shell.execute_reply.started": "2024-04-10T13:55:30.540986Z"
    },
    "trusted": true
   },
   "outputs": [
    {
     "data": {
      "text/html": [
       "<div>\n",
       "<style scoped>\n",
       "    .dataframe tbody tr th:only-of-type {\n",
       "        vertical-align: middle;\n",
       "    }\n",
       "\n",
       "    .dataframe tbody tr th {\n",
       "        vertical-align: top;\n",
       "    }\n",
       "\n",
       "    .dataframe thead th {\n",
       "        text-align: right;\n",
       "    }\n",
       "</style>\n",
       "<table border=\"1\" class=\"dataframe\">\n",
       "  <thead>\n",
       "    <tr style=\"text-align: right;\">\n",
       "      <th></th>\n",
       "      <th>ID</th>\n",
       "      <th>RecipeNumber</th>\n",
       "      <th>RecipeCode</th>\n",
       "      <th>RecipeName</th>\n",
       "      <th>CommentID</th>\n",
       "      <th>UserID</th>\n",
       "      <th>UserName</th>\n",
       "      <th>UserReputation</th>\n",
       "      <th>CreationTimestamp</th>\n",
       "      <th>ReplyCount</th>\n",
       "      <th>ThumbsUpCount</th>\n",
       "      <th>ThumbsDownCount</th>\n",
       "      <th>Rating</th>\n",
       "      <th>BestScore</th>\n",
       "      <th>Recipe_Review</th>\n",
       "    </tr>\n",
       "  </thead>\n",
       "  <tbody>\n",
       "    <tr>\n",
       "      <th>13631</th>\n",
       "      <td>115</td>\n",
       "      <td>98</td>\n",
       "      <td>11767</td>\n",
       "      <td>Quick Cream of Mushroom Soup</td>\n",
       "      <td>sp_aUSaElGf_11767_c_127710</td>\n",
       "      <td>u_1oKVbHjirkAIWwTjbt9dWyqENo2</td>\n",
       "      <td>elbay</td>\n",
       "      <td>1</td>\n",
       "      <td>1622716969</td>\n",
       "      <td>0</td>\n",
       "      <td>0</td>\n",
       "      <td>0</td>\n",
       "      <td>5</td>\n",
       "      <td>100</td>\n",
       "      <td>Delicious!! Very easy to make! One minor chang...</td>\n",
       "    </tr>\n",
       "    <tr>\n",
       "      <th>13632</th>\n",
       "      <td>372</td>\n",
       "      <td>6</td>\n",
       "      <td>21444</td>\n",
       "      <td>Favorite Chicken Potpie</td>\n",
       "      <td>sp_aUSaElGf_21444_c_196030</td>\n",
       "      <td>u_1oKXoBnyJ2ocquNYwAhs19LMSrA</td>\n",
       "      <td>PauletteInhofe</td>\n",
       "      <td>1</td>\n",
       "      <td>1622717329</td>\n",
       "      <td>0</td>\n",
       "      <td>0</td>\n",
       "      <td>0</td>\n",
       "      <td>5</td>\n",
       "      <td>100</td>\n",
       "      <td>I made this pie for my family and they loved i...</td>\n",
       "    </tr>\n",
       "    <tr>\n",
       "      <th>13633</th>\n",
       "      <td>87</td>\n",
       "      <td>37</td>\n",
       "      <td>20170</td>\n",
       "      <td>Taco Lasagna</td>\n",
       "      <td>sp_aUSaElGf_20170_c_359338</td>\n",
       "      <td>u_1oKbGr5o9tj0mQl1rkVqzWnE481</td>\n",
       "      <td>Barbaralarkin</td>\n",
       "      <td>1</td>\n",
       "      <td>1622718089</td>\n",
       "      <td>0</td>\n",
       "      <td>0</td>\n",
       "      <td>0</td>\n",
       "      <td>5</td>\n",
       "      <td>100</td>\n",
       "      <td>Very tasty!</td>\n",
       "    </tr>\n",
       "    <tr>\n",
       "      <th>13634</th>\n",
       "      <td>48</td>\n",
       "      <td>63</td>\n",
       "      <td>24886</td>\n",
       "      <td>Chicken and Dumplings</td>\n",
       "      <td>sp_aUSaElGf_24886_c_175514</td>\n",
       "      <td>u_1oKWD7Dqjmc0oYHdW8Vm3fzhxJW</td>\n",
       "      <td>SammyPrissy</td>\n",
       "      <td>1</td>\n",
       "      <td>1622717192</td>\n",
       "      <td>0</td>\n",
       "      <td>0</td>\n",
       "      <td>0</td>\n",
       "      <td>5</td>\n",
       "      <td>100</td>\n",
       "      <td>I have made this numerous times.  It&amp;#39;s so ...</td>\n",
       "    </tr>\n",
       "    <tr>\n",
       "      <th>13635</th>\n",
       "      <td>379</td>\n",
       "      <td>3</td>\n",
       "      <td>2832</td>\n",
       "      <td>Cheeseburger Soup</td>\n",
       "      <td>sp_aUSaElGf_2832_c_278956</td>\n",
       "      <td>u_1oKYPsERQ0GvUcjIsuAxzmnsQGW</td>\n",
       "      <td>morgantowndan</td>\n",
       "      <td>1</td>\n",
       "      <td>1622717703</td>\n",
       "      <td>0</td>\n",
       "      <td>0</td>\n",
       "      <td>0</td>\n",
       "      <td>5</td>\n",
       "      <td>100</td>\n",
       "      <td>Super. I added 1/2 lb chopped bacon to mine. H...</td>\n",
       "    </tr>\n",
       "  </tbody>\n",
       "</table>\n",
       "</div>"
      ],
      "text/plain": [
       "        ID  RecipeNumber  RecipeCode                    RecipeName  \\\n",
       "13631  115            98       11767  Quick Cream of Mushroom Soup   \n",
       "13632  372             6       21444       Favorite Chicken Potpie   \n",
       "13633   87            37       20170                  Taco Lasagna   \n",
       "13634   48            63       24886         Chicken and Dumplings   \n",
       "13635  379             3        2832             Cheeseburger Soup   \n",
       "\n",
       "                        CommentID                         UserID  \\\n",
       "13631  sp_aUSaElGf_11767_c_127710  u_1oKVbHjirkAIWwTjbt9dWyqENo2   \n",
       "13632  sp_aUSaElGf_21444_c_196030  u_1oKXoBnyJ2ocquNYwAhs19LMSrA   \n",
       "13633  sp_aUSaElGf_20170_c_359338  u_1oKbGr5o9tj0mQl1rkVqzWnE481   \n",
       "13634  sp_aUSaElGf_24886_c_175514  u_1oKWD7Dqjmc0oYHdW8Vm3fzhxJW   \n",
       "13635   sp_aUSaElGf_2832_c_278956  u_1oKYPsERQ0GvUcjIsuAxzmnsQGW   \n",
       "\n",
       "             UserName  UserReputation  CreationTimestamp  ReplyCount  \\\n",
       "13631           elbay               1         1622716969           0   \n",
       "13632  PauletteInhofe               1         1622717329           0   \n",
       "13633   Barbaralarkin               1         1622718089           0   \n",
       "13634     SammyPrissy               1         1622717192           0   \n",
       "13635   morgantowndan               1         1622717703           0   \n",
       "\n",
       "       ThumbsUpCount  ThumbsDownCount  Rating  BestScore  \\\n",
       "13631              0                0       5        100   \n",
       "13632              0                0       5        100   \n",
       "13633              0                0       5        100   \n",
       "13634              0                0       5        100   \n",
       "13635              0                0       5        100   \n",
       "\n",
       "                                           Recipe_Review  \n",
       "13631  Delicious!! Very easy to make! One minor chang...  \n",
       "13632  I made this pie for my family and they loved i...  \n",
       "13633                                        Very tasty!  \n",
       "13634  I have made this numerous times.  It&#39;s so ...  \n",
       "13635  Super. I added 1/2 lb chopped bacon to mine. H...  "
      ]
     },
     "execution_count": 112,
     "metadata": {},
     "output_type": "execute_result"
    }
   ],
   "source": [
    "train_data.tail()"
   ]
  },
  {
   "cell_type": "code",
   "execution_count": 113,
   "metadata": {
    "execution": {
     "iopub.execute_input": "2024-04-10T13:55:30.556052Z",
     "iopub.status.busy": "2024-04-10T13:55:30.555829Z",
     "iopub.status.idle": "2024-04-10T13:55:30.586495Z",
     "shell.execute_reply": "2024-04-10T13:55:30.585698Z",
     "shell.execute_reply.started": "2024-04-10T13:55:30.556032Z"
    },
    "trusted": true
   },
   "outputs": [
    {
     "name": "stdout",
     "output_type": "stream",
     "text": [
      "<class 'pandas.core.frame.DataFrame'>\n",
      "RangeIndex: 13636 entries, 0 to 13635\n",
      "Data columns (total 15 columns):\n",
      " #   Column             Non-Null Count  Dtype \n",
      "---  ------             --------------  ----- \n",
      " 0   ID                 13636 non-null  int64 \n",
      " 1   RecipeNumber       13636 non-null  int64 \n",
      " 2   RecipeCode         13636 non-null  int64 \n",
      " 3   RecipeName         13636 non-null  object\n",
      " 4   CommentID          13636 non-null  object\n",
      " 5   UserID             13636 non-null  object\n",
      " 6   UserName           13636 non-null  object\n",
      " 7   UserReputation     13636 non-null  int64 \n",
      " 8   CreationTimestamp  13636 non-null  int64 \n",
      " 9   ReplyCount         13636 non-null  int64 \n",
      " 10  ThumbsUpCount      13636 non-null  int64 \n",
      " 11  ThumbsDownCount    13636 non-null  int64 \n",
      " 12  Rating             13636 non-null  int64 \n",
      " 13  BestScore          13636 non-null  int64 \n",
      " 14  Recipe_Review      13634 non-null  object\n",
      "dtypes: int64(10), object(5)\n",
      "memory usage: 1.6+ MB\n"
     ]
    }
   ],
   "source": [
    "train_data.info()"
   ]
  },
  {
   "cell_type": "code",
   "execution_count": 114,
   "metadata": {
    "execution": {
     "iopub.execute_input": "2024-04-10T13:55:30.587891Z",
     "iopub.status.busy": "2024-04-10T13:55:30.587586Z",
     "iopub.status.idle": "2024-04-10T13:55:30.614276Z",
     "shell.execute_reply": "2024-04-10T13:55:30.613439Z",
     "shell.execute_reply.started": "2024-04-10T13:55:30.587859Z"
    },
    "trusted": true
   },
   "outputs": [
    {
     "data": {
      "text/plain": [
       "ID                     701\n",
       "RecipeNumber           100\n",
       "RecipeCode             100\n",
       "RecipeName             100\n",
       "CommentID            13636\n",
       "UserID               10783\n",
       "UserName             10620\n",
       "UserReputation          20\n",
       "CreationTimestamp     2422\n",
       "ReplyCount               4\n",
       "ThumbsUpCount           57\n",
       "ThumbsDownCount         51\n",
       "Rating                   6\n",
       "BestScore              525\n",
       "Recipe_Review        13370\n",
       "dtype: int64"
      ]
     },
     "execution_count": 114,
     "metadata": {},
     "output_type": "execute_result"
    }
   ],
   "source": [
    "train_data.nunique()"
   ]
  },
  {
   "cell_type": "code",
   "execution_count": 115,
   "metadata": {
    "execution": {
     "iopub.execute_input": "2024-04-10T13:55:30.615682Z",
     "iopub.status.busy": "2024-04-10T13:55:30.615346Z",
     "iopub.status.idle": "2024-04-10T13:55:30.628618Z",
     "shell.execute_reply": "2024-04-10T13:55:30.627771Z",
     "shell.execute_reply.started": "2024-04-10T13:55:30.615651Z"
    },
    "trusted": true
   },
   "outputs": [
    {
     "data": {
      "text/plain": [
       "ID                   0\n",
       "RecipeNumber         0\n",
       "RecipeCode           0\n",
       "RecipeName           0\n",
       "CommentID            0\n",
       "UserID               0\n",
       "UserName             0\n",
       "UserReputation       0\n",
       "CreationTimestamp    0\n",
       "ReplyCount           0\n",
       "ThumbsUpCount        0\n",
       "ThumbsDownCount      0\n",
       "Rating               0\n",
       "BestScore            0\n",
       "Recipe_Review        2\n",
       "dtype: int64"
      ]
     },
     "execution_count": 115,
     "metadata": {},
     "output_type": "execute_result"
    }
   ],
   "source": [
    "train_data.isnull().sum()"
   ]
  },
  {
   "cell_type": "markdown",
   "metadata": {},
   "source": [
    "#### Since there are 2 null values so there is no need of any kind of imputer we can simply remove them"
   ]
  },
  {
   "cell_type": "code",
   "execution_count": 116,
   "metadata": {
    "execution": {
     "iopub.execute_input": "2024-04-10T13:55:30.629886Z",
     "iopub.status.busy": "2024-04-10T13:55:30.629623Z",
     "iopub.status.idle": "2024-04-10T13:55:30.636908Z",
     "shell.execute_reply": "2024-04-10T13:55:30.636155Z",
     "shell.execute_reply.started": "2024-04-10T13:55:30.629864Z"
    },
    "trusted": true
   },
   "outputs": [
    {
     "data": {
      "text/plain": [
       "Index(['ID', 'RecipeNumber', 'RecipeCode', 'RecipeName', 'CommentID', 'UserID',\n",
       "       'UserName', 'UserReputation', 'CreationTimestamp', 'ReplyCount',\n",
       "       'ThumbsUpCount', 'ThumbsDownCount', 'Rating', 'BestScore',\n",
       "       'Recipe_Review'],\n",
       "      dtype='object')"
      ]
     },
     "execution_count": 116,
     "metadata": {},
     "output_type": "execute_result"
    }
   ],
   "source": [
    "columns = train_data.columns\n",
    "columns"
   ]
  },
  {
   "cell_type": "code",
   "execution_count": 117,
   "metadata": {
    "execution": {
     "iopub.execute_input": "2024-04-10T13:55:30.638119Z",
     "iopub.status.busy": "2024-04-10T13:55:30.637861Z",
     "iopub.status.idle": "2024-04-10T13:55:30.658843Z",
     "shell.execute_reply": "2024-04-10T13:55:30.658023Z",
     "shell.execute_reply.started": "2024-04-10T13:55:30.638098Z"
    },
    "trusted": true
   },
   "outputs": [
    {
     "data": {
      "text/html": [
       "<div>\n",
       "<style scoped>\n",
       "    .dataframe tbody tr th:only-of-type {\n",
       "        vertical-align: middle;\n",
       "    }\n",
       "\n",
       "    .dataframe tbody tr th {\n",
       "        vertical-align: top;\n",
       "    }\n",
       "\n",
       "    .dataframe thead th {\n",
       "        text-align: right;\n",
       "    }\n",
       "</style>\n",
       "<table border=\"1\" class=\"dataframe\">\n",
       "  <thead>\n",
       "    <tr style=\"text-align: right;\">\n",
       "      <th></th>\n",
       "      <th>UserReputation</th>\n",
       "      <th>ReplyCount</th>\n",
       "      <th>ThumbsUpCount</th>\n",
       "      <th>ThumbsDownCount</th>\n",
       "      <th>Rating</th>\n",
       "      <th>BestScore</th>\n",
       "      <th>Recipe_Review</th>\n",
       "    </tr>\n",
       "  </thead>\n",
       "  <tbody>\n",
       "    <tr>\n",
       "      <th>0</th>\n",
       "      <td>20</td>\n",
       "      <td>0</td>\n",
       "      <td>0</td>\n",
       "      <td>0</td>\n",
       "      <td>5</td>\n",
       "      <td>100</td>\n",
       "      <td>great recipe! I have made them just as written...</td>\n",
       "    </tr>\n",
       "    <tr>\n",
       "      <th>1</th>\n",
       "      <td>1</td>\n",
       "      <td>0</td>\n",
       "      <td>0</td>\n",
       "      <td>1</td>\n",
       "      <td>5</td>\n",
       "      <td>100</td>\n",
       "      <td>This is an easy and quick recipe that is great...</td>\n",
       "    </tr>\n",
       "    <tr>\n",
       "      <th>2</th>\n",
       "      <td>1</td>\n",
       "      <td>0</td>\n",
       "      <td>0</td>\n",
       "      <td>0</td>\n",
       "      <td>3</td>\n",
       "      <td>100</td>\n",
       "      <td>I think I was looking for something extra spec...</td>\n",
       "    </tr>\n",
       "    <tr>\n",
       "      <th>3</th>\n",
       "      <td>1</td>\n",
       "      <td>0</td>\n",
       "      <td>0</td>\n",
       "      <td>0</td>\n",
       "      <td>5</td>\n",
       "      <td>100</td>\n",
       "      <td>This is our favorite grilled chicken recipe.  ...</td>\n",
       "    </tr>\n",
       "    <tr>\n",
       "      <th>4</th>\n",
       "      <td>1</td>\n",
       "      <td>0</td>\n",
       "      <td>0</td>\n",
       "      <td>0</td>\n",
       "      <td>4</td>\n",
       "      <td>100</td>\n",
       "      <td>Great basic recipe. I added 2 teaspoons Tuscan...</td>\n",
       "    </tr>\n",
       "    <tr>\n",
       "      <th>...</th>\n",
       "      <td>...</td>\n",
       "      <td>...</td>\n",
       "      <td>...</td>\n",
       "      <td>...</td>\n",
       "      <td>...</td>\n",
       "      <td>...</td>\n",
       "      <td>...</td>\n",
       "    </tr>\n",
       "    <tr>\n",
       "      <th>13631</th>\n",
       "      <td>1</td>\n",
       "      <td>0</td>\n",
       "      <td>0</td>\n",
       "      <td>0</td>\n",
       "      <td>5</td>\n",
       "      <td>100</td>\n",
       "      <td>Delicious!! Very easy to make! One minor chang...</td>\n",
       "    </tr>\n",
       "    <tr>\n",
       "      <th>13632</th>\n",
       "      <td>1</td>\n",
       "      <td>0</td>\n",
       "      <td>0</td>\n",
       "      <td>0</td>\n",
       "      <td>5</td>\n",
       "      <td>100</td>\n",
       "      <td>I made this pie for my family and they loved i...</td>\n",
       "    </tr>\n",
       "    <tr>\n",
       "      <th>13633</th>\n",
       "      <td>1</td>\n",
       "      <td>0</td>\n",
       "      <td>0</td>\n",
       "      <td>0</td>\n",
       "      <td>5</td>\n",
       "      <td>100</td>\n",
       "      <td>Very tasty!</td>\n",
       "    </tr>\n",
       "    <tr>\n",
       "      <th>13634</th>\n",
       "      <td>1</td>\n",
       "      <td>0</td>\n",
       "      <td>0</td>\n",
       "      <td>0</td>\n",
       "      <td>5</td>\n",
       "      <td>100</td>\n",
       "      <td>I have made this numerous times.  It&amp;#39;s so ...</td>\n",
       "    </tr>\n",
       "    <tr>\n",
       "      <th>13635</th>\n",
       "      <td>1</td>\n",
       "      <td>0</td>\n",
       "      <td>0</td>\n",
       "      <td>0</td>\n",
       "      <td>5</td>\n",
       "      <td>100</td>\n",
       "      <td>Super. I added 1/2 lb chopped bacon to mine. H...</td>\n",
       "    </tr>\n",
       "  </tbody>\n",
       "</table>\n",
       "<p>13636 rows × 7 columns</p>\n",
       "</div>"
      ],
      "text/plain": [
       "       UserReputation  ReplyCount  ThumbsUpCount  ThumbsDownCount  Rating  \\\n",
       "0                  20           0              0                0       5   \n",
       "1                   1           0              0                1       5   \n",
       "2                   1           0              0                0       3   \n",
       "3                   1           0              0                0       5   \n",
       "4                   1           0              0                0       4   \n",
       "...               ...         ...            ...              ...     ...   \n",
       "13631               1           0              0                0       5   \n",
       "13632               1           0              0                0       5   \n",
       "13633               1           0              0                0       5   \n",
       "13634               1           0              0                0       5   \n",
       "13635               1           0              0                0       5   \n",
       "\n",
       "       BestScore                                      Recipe_Review  \n",
       "0            100  great recipe! I have made them just as written...  \n",
       "1            100  This is an easy and quick recipe that is great...  \n",
       "2            100  I think I was looking for something extra spec...  \n",
       "3            100  This is our favorite grilled chicken recipe.  ...  \n",
       "4            100  Great basic recipe. I added 2 teaspoons Tuscan...  \n",
       "...          ...                                                ...  \n",
       "13631        100  Delicious!! Very easy to make! One minor chang...  \n",
       "13632        100  I made this pie for my family and they loved i...  \n",
       "13633        100                                        Very tasty!  \n",
       "13634        100  I have made this numerous times.  It&#39;s so ...  \n",
       "13635        100  Super. I added 1/2 lb chopped bacon to mine. H...  \n",
       "\n",
       "[13636 rows x 7 columns]"
      ]
     },
     "execution_count": 117,
     "metadata": {},
     "output_type": "execute_result"
    }
   ],
   "source": [
    "cols_to_drop = [\"ID\",\"CommentID\",\"UserName\",\"RecipeCode\",\"UserID\",\"CreationTimestamp\",\"RecipeName\",\"RecipeNumber\"]\n",
    "new_train_data= train_data.drop(cols_to_drop,axis=1)\n",
    "new_test_data = test_data.drop(cols_to_drop,axis=1)\n",
    "new_train_data"
   ]
  },
  {
   "cell_type": "code",
   "execution_count": 118,
   "metadata": {
    "execution": {
     "iopub.execute_input": "2024-04-10T13:55:30.663504Z",
     "iopub.status.busy": "2024-04-10T13:55:30.662861Z",
     "iopub.status.idle": "2024-04-10T13:55:30.691912Z",
     "shell.execute_reply": "2024-04-10T13:55:30.691084Z",
     "shell.execute_reply.started": "2024-04-10T13:55:30.663478Z"
    },
    "trusted": true
   },
   "outputs": [
    {
     "data": {
      "text/html": [
       "<div>\n",
       "<style scoped>\n",
       "    .dataframe tbody tr th:only-of-type {\n",
       "        vertical-align: middle;\n",
       "    }\n",
       "\n",
       "    .dataframe tbody tr th {\n",
       "        vertical-align: top;\n",
       "    }\n",
       "\n",
       "    .dataframe thead th {\n",
       "        text-align: right;\n",
       "    }\n",
       "</style>\n",
       "<table border=\"1\" class=\"dataframe\">\n",
       "  <thead>\n",
       "    <tr style=\"text-align: right;\">\n",
       "      <th></th>\n",
       "      <th>count</th>\n",
       "      <th>mean</th>\n",
       "      <th>std</th>\n",
       "      <th>min</th>\n",
       "      <th>25%</th>\n",
       "      <th>50%</th>\n",
       "      <th>75%</th>\n",
       "      <th>max</th>\n",
       "    </tr>\n",
       "  </thead>\n",
       "  <tbody>\n",
       "    <tr>\n",
       "      <th>UserReputation</th>\n",
       "      <td>13636.0</td>\n",
       "      <td>2.160311</td>\n",
       "      <td>10.086424</td>\n",
       "      <td>0.0</td>\n",
       "      <td>1.0</td>\n",
       "      <td>1.0</td>\n",
       "      <td>1.0</td>\n",
       "      <td>510.0</td>\n",
       "    </tr>\n",
       "    <tr>\n",
       "      <th>ReplyCount</th>\n",
       "      <td>13636.0</td>\n",
       "      <td>0.014520</td>\n",
       "      <td>0.137323</td>\n",
       "      <td>0.0</td>\n",
       "      <td>0.0</td>\n",
       "      <td>0.0</td>\n",
       "      <td>0.0</td>\n",
       "      <td>3.0</td>\n",
       "    </tr>\n",
       "    <tr>\n",
       "      <th>ThumbsUpCount</th>\n",
       "      <td>13636.0</td>\n",
       "      <td>1.098269</td>\n",
       "      <td>4.166487</td>\n",
       "      <td>0.0</td>\n",
       "      <td>0.0</td>\n",
       "      <td>0.0</td>\n",
       "      <td>0.0</td>\n",
       "      <td>80.0</td>\n",
       "    </tr>\n",
       "    <tr>\n",
       "      <th>ThumbsDownCount</th>\n",
       "      <td>13636.0</td>\n",
       "      <td>0.543708</td>\n",
       "      <td>3.265660</td>\n",
       "      <td>0.0</td>\n",
       "      <td>0.0</td>\n",
       "      <td>0.0</td>\n",
       "      <td>0.0</td>\n",
       "      <td>126.0</td>\n",
       "    </tr>\n",
       "    <tr>\n",
       "      <th>Rating</th>\n",
       "      <td>13636.0</td>\n",
       "      <td>4.288721</td>\n",
       "      <td>1.544839</td>\n",
       "      <td>0.0</td>\n",
       "      <td>5.0</td>\n",
       "      <td>5.0</td>\n",
       "      <td>5.0</td>\n",
       "      <td>5.0</td>\n",
       "    </tr>\n",
       "    <tr>\n",
       "      <th>BestScore</th>\n",
       "      <td>13636.0</td>\n",
       "      <td>153.127897</td>\n",
       "      <td>140.986908</td>\n",
       "      <td>0.0</td>\n",
       "      <td>100.0</td>\n",
       "      <td>100.0</td>\n",
       "      <td>100.0</td>\n",
       "      <td>946.0</td>\n",
       "    </tr>\n",
       "  </tbody>\n",
       "</table>\n",
       "</div>"
      ],
      "text/plain": [
       "                   count        mean         std  min    25%    50%    75%  \\\n",
       "UserReputation   13636.0    2.160311   10.086424  0.0    1.0    1.0    1.0   \n",
       "ReplyCount       13636.0    0.014520    0.137323  0.0    0.0    0.0    0.0   \n",
       "ThumbsUpCount    13636.0    1.098269    4.166487  0.0    0.0    0.0    0.0   \n",
       "ThumbsDownCount  13636.0    0.543708    3.265660  0.0    0.0    0.0    0.0   \n",
       "Rating           13636.0    4.288721    1.544839  0.0    5.0    5.0    5.0   \n",
       "BestScore        13636.0  153.127897  140.986908  0.0  100.0  100.0  100.0   \n",
       "\n",
       "                   max  \n",
       "UserReputation   510.0  \n",
       "ReplyCount         3.0  \n",
       "ThumbsUpCount     80.0  \n",
       "ThumbsDownCount  126.0  \n",
       "Rating             5.0  \n",
       "BestScore        946.0  "
      ]
     },
     "execution_count": 118,
     "metadata": {},
     "output_type": "execute_result"
    }
   ],
   "source": [
    "new_train_data.describe().T"
   ]
  },
  {
   "cell_type": "code",
   "execution_count": 119,
   "metadata": {
    "execution": {
     "iopub.execute_input": "2024-04-10T13:55:30.693069Z",
     "iopub.status.busy": "2024-04-10T13:55:30.692824Z",
     "iopub.status.idle": "2024-04-10T13:55:30.699254Z",
     "shell.execute_reply": "2024-04-10T13:55:30.698345Z",
     "shell.execute_reply.started": "2024-04-10T13:55:30.693047Z"
    },
    "trusted": true
   },
   "outputs": [
    {
     "name": "stdout",
     "output_type": "stream",
     "text": [
      "Categorical Variables:\n",
      "Index(['Recipe_Review'], dtype='object')\n",
      "Numerical Variables:\n",
      "['UserReputation', 'ReplyCount', 'ThumbsUpCount', 'ThumbsDownCount', 'Rating', 'BestScore']\n"
     ]
    }
   ],
   "source": [
    "cat_cols = new_train_data.select_dtypes(include=['object']).columns\n",
    "num_cols = new_train_data.select_dtypes(include=np.number).columns.tolist()\n",
    "print(\"Categorical Variables:\")\n",
    "print(cat_cols)\n",
    "print(\"Numerical Variables:\")\n",
    "print(num_cols)"
   ]
  },
  {
   "cell_type": "markdown",
   "metadata": {},
   "source": [
    "### Conclusions from analyzing statistics\n",
    "\n",
    "From the above statistics obtained from the numerical column of train_data data we can conculude that\n",
    "- all analyzed columns exclusively contain positive values.\n",
    "- in most columns, the quartiles are very close to the mode, suggesting a potential skew in the data distribution or a limited range of values.\n",
    "- the very low frequency of zero value in the \"Recipe_Review\" column"
   ]
  },
  {
   "cell_type": "markdown",
   "metadata": {},
   "source": [
    "# Vizualizing the data\n",
    "\n",
    "Let's delve into the connections between features and the target variable by looking at different charts:\n",
    "\n",
    "- Target vs. Feature Visualizations: We'll create scatter plots (or other charts depending on the data type) to uncover patterns between each feature and the target variable. This will help us grasp how each feature might contribute to the target.\n",
    "\n",
    "- PairPlot: to creates a matrix of scatter plots, showing the relationship between every single pair of features in data and to identify patterns and potential correlations between features.\n",
    "\n",
    "- Boxplot Breakdown: We'll use boxplots to show the distribution of features and identify any outliers. Outliers can heavily influence models, so it's important to understand if they exist.\n",
    "\n",
    "- Scaling's Influence: To see how scaling affects the data's distribution, we'll create kernel density estimation (KDE) plots before and after scaling the features. KDE plots show the probability density of the data, allowing us to visualize how scaling changes the spread and shape of the data.\n"
   ]
  },
  {
   "cell_type": "code",
   "execution_count": 120,
   "metadata": {
    "execution": {
     "iopub.execute_input": "2024-04-10T13:55:30.700604Z",
     "iopub.status.busy": "2024-04-10T13:55:30.700313Z",
     "iopub.status.idle": "2024-04-10T13:55:33.204276Z",
     "shell.execute_reply": "2024-04-10T13:55:33.203321Z",
     "shell.execute_reply.started": "2024-04-10T13:55:30.700552Z"
    },
    "trusted": true
   },
   "outputs": [
    {
     "name": "stdout",
     "output_type": "stream",
     "text": [
      "UserReputation\n",
      "Skew :  33.15\n"
     ]
    },
    {
     "data": {
      "image/png": "[encoded data removed]",
      "text/plain": [
       "<Figure size 1400x300 with 2 Axes>"
      ]
     },
     "metadata": {},
     "output_type": "display_data"
    },
    {
     "name": "stdout",
     "output_type": "stream",
     "text": [
      "ReplyCount\n",
      "Skew :  11.41\n"
     ]
    },
    {
     "data": {
      "image/png": "[encoded data removed]",
      "text/plain": [
       "<Figure size 1400x300 with 2 Axes>"
      ]
     },
     "metadata": {},
     "output_type": "display_data"
    },
    {
     "name": "stdout",
     "output_type": "stream",
     "text": [
      "ThumbsUpCount\n",
      "Skew :  7.89\n"
     ]
    },
    {
     "data": {
      "image/png": "[encoded data removed]",
      "text/plain": [
       "<Figure size 1400x300 with 2 Axes>"
      ]
     },
     "metadata": {},
     "output_type": "display_data"
    },
    {
     "name": "stdout",
     "output_type": "stream",
     "text": [
      "ThumbsDownCount\n",
      "Skew :  16.66\n"
     ]
    },
    {
     "data": {
      "image/png": "[encoded data removed]",
      "text/plain": [
       "<Figure size 1400x300 with 2 Axes>"
      ]
     },
     "metadata": {},
     "output_type": "display_data"
    },
    {
     "name": "stdout",
     "output_type": "stream",
     "text": [
      "Rating\n",
      "Skew :  -2.13\n"
     ]
    },
    {
     "data": {
      "image/png": "[encoded data removed]",
      "text/plain": [
       "<Figure size 1400x300 with 2 Axes>"
      ]
     },
     "metadata": {},
     "output_type": "display_data"
    },
    {
     "name": "stdout",
     "output_type": "stream",
     "text": [
      "BestScore\n",
      "Skew :  3.39\n"
     ]
    },
    {
     "data": {
      "image/png": "[encoded data removed]",
      "text/plain": [
       "<Figure size 1400x300 with 2 Axes>"
      ]
     },
     "metadata": {},
     "output_type": "display_data"
    }
   ],
   "source": [
    "import matplotlib.pyplot as plt\n",
    "import seaborn as sns\n",
    "\n",
    "for col in num_cols:\n",
    "    print(col)\n",
    "    print('Skew : ',round(new_train_data[col].skew(),2))\n",
    "    plt.figure(figsize=(14,3))\n",
    "    plt.subplot(1,2,1)\n",
    "    new_train_data[col].hist(grid = False)\n",
    "    plt.ylabel('count')\n",
    "    plt.subplot(1,2,2)\n",
    "    sns.boxplot(x=new_train_data[col])\n",
    "    plt.show()"
   ]
  },
  {
   "cell_type": "code",
   "execution_count": 121,
   "metadata": {
    "execution": {
     "iopub.execute_input": "2024-04-10T13:55:33.205637Z",
     "iopub.status.busy": "2024-04-10T13:55:33.205360Z",
     "iopub.status.idle": "2024-04-10T13:55:37.918170Z",
     "shell.execute_reply": "2024-04-10T13:55:37.917317Z",
     "shell.execute_reply.started": "2024-04-10T13:55:33.205612Z"
    },
    "trusted": true
   },
   "outputs": [
    {
     "data": {
      "text/plain": [
       "<Figure size 1100x1500 with 0 Axes>"
      ]
     },
     "metadata": {},
     "output_type": "display_data"
    },
    {
     "data": {
      "image/png": "[encoded data removed]",
      "text/plain": [
       "<Figure size 1000x1000 with 20 Axes>"
      ]
     },
     "metadata": {},
     "output_type": "display_data"
    }
   ],
   "source": [
    "plt.figure(figsize=(11,15))\n",
    "# Choose a subset of variables if needed\n",
    "subset_vars = ['ThumbsUpCount', 'ThumbsDownCount', 'Rating', 'UserReputation',]\n",
    "\n",
    "# Create a pair plot\n",
    "sns.pairplot(new_train_data[subset_vars])\n",
    "\n",
    "plt.show()"
   ]
  },
  {
   "cell_type": "code",
   "execution_count": 122,
   "metadata": {
    "execution": {
     "iopub.execute_input": "2024-04-10T13:55:37.919540Z",
     "iopub.status.busy": "2024-04-10T13:55:37.919281Z",
     "iopub.status.idle": "2024-04-10T13:55:38.414515Z",
     "shell.execute_reply": "2024-04-10T13:55:38.413622Z",
     "shell.execute_reply.started": "2024-04-10T13:55:37.919517Z"
    },
    "trusted": true
   },
   "outputs": [
    {
     "name": "stderr",
     "output_type": "stream",
     "text": [
      "C:\\Users\\fkvdn\\AppData\\Local\\Temp\\ipykernel_5788\\1287945217.py:1: UserWarning: \n",
      "\n",
      "`distplot` is a deprecated function and will be removed in seaborn v0.14.0.\n",
      "\n",
      "Please adapt your code to use either `displot` (a figure-level function with\n",
      "similar flexibility) or `histplot` (an axes-level function for histograms).\n",
      "\n",
      "For a guide to updating your code to use the new functions, please see\n",
      "https://gist.github.com/mwaskom/de44147ed2974457ad6372750bbe5751\n",
      "\n",
      "  sns.distplot(new_train_data[\"ThumbsUpCount\"], axlabel=\"ThumbsUpCount\");\n"
     ]
    },
    {
     "data": {
      "image/png": "[encoded data removed]",
      "text/plain": [
       "<Figure size 640x480 with 1 Axes>"
      ]
     },
     "metadata": {},
     "output_type": "display_data"
    }
   ],
   "source": [
    "\n",
    "sns.distplot(new_train_data[\"ThumbsUpCount\"], axlabel=\"ThumbsUpCount\");"
   ]
  },
  {
   "cell_type": "code",
   "execution_count": 123,
   "metadata": {
    "execution": {
     "iopub.execute_input": "2024-04-10T13:55:38.416214Z",
     "iopub.status.busy": "2024-04-10T13:55:38.415849Z",
     "iopub.status.idle": "2024-04-10T13:55:38.855958Z",
     "shell.execute_reply": "2024-04-10T13:55:38.855077Z",
     "shell.execute_reply.started": "2024-04-10T13:55:38.416180Z"
    },
    "trusted": true
   },
   "outputs": [
    {
     "name": "stderr",
     "output_type": "stream",
     "text": [
      "C:\\Users\\fkvdn\\AppData\\Local\\Temp\\ipykernel_5788\\3102639311.py:1: UserWarning: \n",
      "\n",
      "`distplot` is a deprecated function and will be removed in seaborn v0.14.0.\n",
      "\n",
      "Please adapt your code to use either `displot` (a figure-level function with\n",
      "similar flexibility) or `histplot` (an axes-level function for histograms).\n",
      "\n",
      "For a guide to updating your code to use the new functions, please see\n",
      "https://gist.github.com/mwaskom/de44147ed2974457ad6372750bbe5751\n",
      "\n",
      "  sns.distplot(new_train_data[\"ThumbsDownCount\"], axlabel=\"ThumbsDownCount\");\n"
     ]
    },
    {
     "data": {
      "image/png": "[encoded data removed]",
      "text/plain": [
       "<Figure size 640x480 with 1 Axes>"
      ]
     },
     "metadata": {},
     "output_type": "display_data"
    }
   ],
   "source": [
    "\n",
    "sns.distplot(new_train_data[\"ThumbsDownCount\"], axlabel=\"ThumbsDownCount\");"
   ]
  },
  {
   "cell_type": "code",
   "execution_count": 124,
   "metadata": {
    "execution": {
     "iopub.execute_input": "2024-04-10T13:55:38.857951Z",
     "iopub.status.busy": "2024-04-10T13:55:38.857289Z",
     "iopub.status.idle": "2024-04-10T13:55:39.290966Z",
     "shell.execute_reply": "2024-04-10T13:55:39.290062Z",
     "shell.execute_reply.started": "2024-04-10T13:55:38.857916Z"
    },
    "trusted": true
   },
   "outputs": [
    {
     "name": "stderr",
     "output_type": "stream",
     "text": [
      "C:\\Users\\fkvdn\\AppData\\Local\\Temp\\ipykernel_5788\\1317377957.py:1: UserWarning: \n",
      "\n",
      "`distplot` is a deprecated function and will be removed in seaborn v0.14.0.\n",
      "\n",
      "Please adapt your code to use either `displot` (a figure-level function with\n",
      "similar flexibility) or `histplot` (an axes-level function for histograms).\n",
      "\n",
      "For a guide to updating your code to use the new functions, please see\n",
      "https://gist.github.com/mwaskom/de44147ed2974457ad6372750bbe5751\n",
      "\n",
      "  sns.distplot(new_train_data[\"UserReputation\"], axlabel=\"UserReputation\");\n"
     ]
    },
    {
     "data": {
      "image/png": "[encoded data removed]",
      "text/plain": [
       "<Figure size 640x480 with 1 Axes>"
      ]
     },
     "metadata": {},
     "output_type": "display_data"
    }
   ],
   "source": [
    "\n",
    "sns.distplot(new_train_data[\"UserReputation\"], axlabel=\"UserReputation\");"
   ]
  },
  {
   "cell_type": "code",
   "execution_count": 125,
   "metadata": {
    "execution": {
     "iopub.execute_input": "2024-04-10T13:55:39.292696Z",
     "iopub.status.busy": "2024-04-10T13:55:39.292308Z",
     "iopub.status.idle": "2024-04-10T13:55:40.579578Z",
     "shell.execute_reply": "2024-04-10T13:55:40.578626Z",
     "shell.execute_reply.started": "2024-04-10T13:55:39.292662Z"
    },
    "id": "qF_h6pJ2ap8p",
    "outputId": "f591a851-7faa-4dfb-b6c4-6db3a8d9a431",
    "trusted": true
   },
   "outputs": [
    {
     "data": {
      "image/png": "[encoded data removed]",
      "text/plain": [
       "<Figure size 800x800 with 6 Axes>"
      ]
     },
     "metadata": {},
     "output_type": "display_data"
    }
   ],
   "source": [
    "import matplotlib.pyplot as plt\n",
    "\n",
    "# Create a figure and axes\n",
    "fig, axs = plt.subplots(3, 2, figsize=(8, 8))\n",
    "\n",
    "plt.suptitle('Columns vs Rating plots')\n",
    "\n",
    "# Iterate over the numerical columns\n",
    "for i, col in enumerate(['UserReputation', 'ReplyCount', 'ThumbsUpCount', 'ThumbsDownCount' , 'BestScore']):\n",
    "    # Plot the data\n",
    "    axs[i // 2, i % 2].scatter(new_train_data['Rating'], new_train_data[col])\n",
    "    # Set the title\n",
    "    axs[i // 2, i % 2].set_title(f'{col} vs Rating')\n",
    "\n",
    "plt.tight_layout()\n",
    "\n",
    "# Display the above plot\n",
    "plt.show()\n"
   ]
  },
  {
   "cell_type": "code",
   "execution_count": 126,
   "metadata": {
    "execution": {
     "iopub.execute_input": "2024-04-10T13:55:40.581368Z",
     "iopub.status.busy": "2024-04-10T13:55:40.581010Z",
     "iopub.status.idle": "2024-04-10T13:55:40.591619Z",
     "shell.execute_reply": "2024-04-10T13:55:40.590404Z",
     "shell.execute_reply.started": "2024-04-10T13:55:40.581336Z"
    },
    "id": "MfaX3Xsebffw",
    "outputId": "5f84e128-199a-4157-c7d6-60a93f4f1925",
    "trusted": true
   },
   "outputs": [
    {
     "data": {
      "text/plain": [
       "UserReputation\n",
       "1      12708\n",
       "10       478\n",
       "20       217\n",
       "0        118\n",
       "30        54\n",
       "50        16\n",
       "40        12\n",
       "90         7\n",
       "80         4\n",
       "60         4\n",
       "110        3\n",
       "510        3\n",
       "100        3\n",
       "140        2\n",
       "70         2\n",
       "220        1\n",
       "160        1\n",
       "130        1\n",
       "150        1\n",
       "300        1\n",
       "Name: count, dtype: int64"
      ]
     },
     "execution_count": 126,
     "metadata": {},
     "output_type": "execute_result"
    }
   ],
   "source": [
    "Reputation_count = new_train_data.UserReputation.value_counts()\n",
    "Reputation_count"
   ]
  },
  {
   "cell_type": "code",
   "execution_count": 127,
   "metadata": {
    "execution": {
     "iopub.execute_input": "2024-04-10T13:55:40.593232Z",
     "iopub.status.busy": "2024-04-10T13:55:40.592876Z",
     "iopub.status.idle": "2024-04-10T13:55:40.846923Z",
     "shell.execute_reply": "2024-04-10T13:55:40.845996Z",
     "shell.execute_reply.started": "2024-04-10T13:55:40.593200Z"
    },
    "id": "2s0cUyyIdOYM",
    "outputId": "96f683df-b479-4cb7-e00f-4c497929efe0",
    "trusted": true
   },
   "outputs": [
    {
     "data": {
      "image/png": "[encoded data removed]",
      "text/plain": [
       "<Figure size 1000x1000 with 1 Axes>"
      ]
     },
     "metadata": {},
     "output_type": "display_data"
    }
   ],
   "source": [
    "import matplotlib.pyplot as plt\n",
    "# Create a figure and axes\n",
    "fig, ax = plt.subplots(figsize=(10, 10))\n",
    "\n",
    "# Plot the data\n",
    "ax.scatter(new_train_data['UserReputation'], new_train_data['BestScore'])\n",
    "\n",
    "# Set the title\n",
    "ax.set_title('UserReputation vs BestScore')\n",
    "\n",
    "# Display the plot\n",
    "plt.show()\n"
   ]
  },
  {
   "cell_type": "markdown",
   "metadata": {},
   "source": [
    "### Inference from above graph:-\n",
    "\n",
    "The data shows a scarcity of users with top reputation scores, and even for those users, their reviews aren't consistently the highest-rated. This implies that user reputation alone might not be the strongest indicator of a top review score."
   ]
  },
  {
   "cell_type": "code",
   "execution_count": 128,
   "metadata": {
    "execution": {
     "iopub.execute_input": "2024-04-10T13:55:40.848231Z",
     "iopub.status.busy": "2024-04-10T13:55:40.847974Z",
     "iopub.status.idle": "2024-04-10T13:55:41.986693Z",
     "shell.execute_reply": "2024-04-10T13:55:41.985847Z",
     "shell.execute_reply.started": "2024-04-10T13:55:40.848208Z"
    },
    "id": "bSANBGtdjxh9",
    "outputId": "162e4001-9baf-4760-8fca-49161b1f4bc1",
    "trusted": true
   },
   "outputs": [
    {
     "data": {
      "image/png": "[encoded data removed]",
      "text/plain": [
       "<Figure size 1100x1100 with 1 Axes>"
      ]
     },
     "metadata": {},
     "output_type": "display_data"
    }
   ],
   "source": [
    "import matplotlib.pyplot as plt\n",
    "import seaborn as sns\n",
    "\n",
    "# Create a figure and axes\n",
    "fig, ax = plt.subplots(figsize=(11, 11))\n",
    "\n",
    "# Iterate over the numerical columns\n",
    "for col in ['UserReputation', 'ReplyCount', 'ThumbsUpCount', 'ThumbsDownCount', 'BestScore']:\n",
    "    # Plot the KDE plot\n",
    "    sns.kdeplot(new_train_data[col], ax=ax)\n",
    "\n",
    "# Set the title\n",
    "ax.set_title('KDE graph of Numerical Columns (before scaling)')\n",
    "\n",
    "# Display the plot\n",
    "plt.show()\n"
   ]
  },
  {
   "cell_type": "markdown",
   "metadata": {},
   "source": [
    "### Inference from above graph:-\n",
    "From the above graph it is completely visible that there is huge gap between the features so we need to do scaling."
   ]
  },
  {
   "cell_type": "code",
   "execution_count": 129,
   "metadata": {
    "execution": {
     "iopub.execute_input": "2024-04-10T13:55:41.987984Z",
     "iopub.status.busy": "2024-04-10T13:55:41.987726Z",
     "iopub.status.idle": "2024-04-10T13:55:41.999542Z",
     "shell.execute_reply": "2024-04-10T13:55:41.998614Z",
     "shell.execute_reply.started": "2024-04-10T13:55:41.987962Z"
    },
    "id": "p-FcxveQkY1J",
    "trusted": true
   },
   "outputs": [],
   "source": [
    "def remove_outliers_iqr(df, columns):\n",
    "  \"\"\"\n",
    "  Removes outliers from the given dataframe using the IQR method.\n",
    "\n",
    "  Args:\n",
    "    df: The dataframe to remove outliers from.\n",
    "    columns: A list of column names to remove outliers from.\n",
    "\n",
    "  Returns:\n",
    "    The dataframe with outliers removed.\n",
    "  \"\"\"\n",
    "\n",
    "  for col in columns:\n",
    "\n",
    "    if df[col].nunique() >= 10:\n",
    "      # Calculate the IQR\n",
    "      Q1 = df[col].quantile(0.25)\n",
    "      Q3 = df[col].quantile(0.75)\n",
    "      IQR = Q3 - Q1\n",
    "\n",
    "      # Calculating the lower bounds & upper bounds\n",
    "      lower_bound = Q1 - (1.5 * IQR)\n",
    "      upper_bound = Q3 + (1.5 * IQR)\n",
    "\n",
    "      # Removing outliers\n",
    "      df = df[(df[col] >= lower_bound) & (df[col] <= upper_bound)]\n",
    "\n",
    "    return df\n",
    "\n",
    "# Remove outliers from the 'train_data' dataframe, excluding the 'Rating' column\n",
    "new_train_data = remove_outliers_iqr(new_train_data, new_train_data.columns.drop(['Rating' , 'Recipe_Review']))\n",
    "\n"
   ]
  },
  {
   "cell_type": "code",
   "execution_count": 130,
   "metadata": {
    "execution": {
     "iopub.execute_input": "2024-04-10T13:55:42.001008Z",
     "iopub.status.busy": "2024-04-10T13:55:42.000702Z",
     "iopub.status.idle": "2024-04-10T13:55:42.014783Z",
     "shell.execute_reply": "2024-04-10T13:55:42.013865Z",
     "shell.execute_reply.started": "2024-04-10T13:55:42.000984Z"
    },
    "id": "T2IWb6Mtmsux",
    "outputId": "2c3e4c46-a503-4bfe-8326-f415ac9260aa",
    "trusted": true
   },
   "outputs": [
    {
     "data": {
      "text/html": [
       "<div>\n",
       "<style scoped>\n",
       "    .dataframe tbody tr th:only-of-type {\n",
       "        vertical-align: middle;\n",
       "    }\n",
       "\n",
       "    .dataframe tbody tr th {\n",
       "        vertical-align: top;\n",
       "    }\n",
       "\n",
       "    .dataframe thead th {\n",
       "        text-align: right;\n",
       "    }\n",
       "</style>\n",
       "<table border=\"1\" class=\"dataframe\">\n",
       "  <thead>\n",
       "    <tr style=\"text-align: right;\">\n",
       "      <th></th>\n",
       "      <th>UserReputation</th>\n",
       "      <th>ReplyCount</th>\n",
       "      <th>ThumbsUpCount</th>\n",
       "      <th>ThumbsDownCount</th>\n",
       "      <th>Rating</th>\n",
       "      <th>BestScore</th>\n",
       "      <th>Recipe_Review</th>\n",
       "    </tr>\n",
       "  </thead>\n",
       "  <tbody>\n",
       "    <tr>\n",
       "      <th>1</th>\n",
       "      <td>1</td>\n",
       "      <td>0</td>\n",
       "      <td>0</td>\n",
       "      <td>1</td>\n",
       "      <td>5</td>\n",
       "      <td>100</td>\n",
       "      <td>This is an easy and quick recipe that is great...</td>\n",
       "    </tr>\n",
       "    <tr>\n",
       "      <th>2</th>\n",
       "      <td>1</td>\n",
       "      <td>0</td>\n",
       "      <td>0</td>\n",
       "      <td>0</td>\n",
       "      <td>3</td>\n",
       "      <td>100</td>\n",
       "      <td>I think I was looking for something extra spec...</td>\n",
       "    </tr>\n",
       "    <tr>\n",
       "      <th>3</th>\n",
       "      <td>1</td>\n",
       "      <td>0</td>\n",
       "      <td>0</td>\n",
       "      <td>0</td>\n",
       "      <td>5</td>\n",
       "      <td>100</td>\n",
       "      <td>This is our favorite grilled chicken recipe.  ...</td>\n",
       "    </tr>\n",
       "    <tr>\n",
       "      <th>4</th>\n",
       "      <td>1</td>\n",
       "      <td>0</td>\n",
       "      <td>0</td>\n",
       "      <td>0</td>\n",
       "      <td>4</td>\n",
       "      <td>100</td>\n",
       "      <td>Great basic recipe. I added 2 teaspoons Tuscan...</td>\n",
       "    </tr>\n",
       "    <tr>\n",
       "      <th>5</th>\n",
       "      <td>1</td>\n",
       "      <td>0</td>\n",
       "      <td>1</td>\n",
       "      <td>0</td>\n",
       "      <td>5</td>\n",
       "      <td>193</td>\n",
       "      <td>Absolutely delicious!   Easy, tasty and filling!</td>\n",
       "    </tr>\n",
       "  </tbody>\n",
       "</table>\n",
       "</div>"
      ],
      "text/plain": [
       "   UserReputation  ReplyCount  ThumbsUpCount  ThumbsDownCount  Rating  \\\n",
       "1               1           0              0                1       5   \n",
       "2               1           0              0                0       3   \n",
       "3               1           0              0                0       5   \n",
       "4               1           0              0                0       4   \n",
       "5               1           0              1                0       5   \n",
       "\n",
       "   BestScore                                      Recipe_Review  \n",
       "1        100  This is an easy and quick recipe that is great...  \n",
       "2        100  I think I was looking for something extra spec...  \n",
       "3        100  This is our favorite grilled chicken recipe.  ...  \n",
       "4        100  Great basic recipe. I added 2 teaspoons Tuscan...  \n",
       "5        193   Absolutely delicious!   Easy, tasty and filling!  "
      ]
     },
     "execution_count": 130,
     "metadata": {},
     "output_type": "execute_result"
    }
   ],
   "source": [
    "new_train_data.head()"
   ]
  },
  {
   "cell_type": "code",
   "execution_count": 131,
   "metadata": {
    "execution": {
     "iopub.execute_input": "2024-04-10T13:55:42.016188Z",
     "iopub.status.busy": "2024-04-10T13:55:42.015869Z",
     "iopub.status.idle": "2024-04-10T13:55:42.025466Z",
     "shell.execute_reply": "2024-04-10T13:55:42.024478Z",
     "shell.execute_reply.started": "2024-04-10T13:55:42.016154Z"
    },
    "id": "DLFo5n31oRRs",
    "outputId": "54792faf-617f-4f3b-f314-edc4fef26eca",
    "trusted": true
   },
   "outputs": [
    {
     "data": {
      "text/plain": [
       "(12708, 7)"
      ]
     },
     "execution_count": 131,
     "metadata": {},
     "output_type": "execute_result"
    }
   ],
   "source": [
    "new_train_data.shape"
   ]
  },
  {
   "cell_type": "code",
   "execution_count": 132,
   "metadata": {
    "execution": {
     "iopub.execute_input": "2024-04-10T13:55:42.026910Z",
     "iopub.status.busy": "2024-04-10T13:55:42.026591Z",
     "iopub.status.idle": "2024-04-10T13:55:42.821486Z",
     "shell.execute_reply": "2024-04-10T13:55:42.820595Z",
     "shell.execute_reply.started": "2024-04-10T13:55:42.026886Z"
    },
    "id": "ZTcjouFenD25",
    "outputId": "6cdae459-f1b7-4e2c-e3a2-8d5209ab48c3",
    "trusted": true
   },
   "outputs": [
    {
     "data": {
      "image/png": "[encoded data removed]",
      "text/plain": [
       "<Figure size 1000x1000 with 4 Axes>"
      ]
     },
     "metadata": {},
     "output_type": "display_data"
    }
   ],
   "source": [
    "import matplotlib.pyplot as plt\n",
    "# Create a figure and axes\n",
    "fig, axs = plt.subplots(2, 2, figsize=(10, 10))\n",
    "\n",
    "plt.suptitle('Box plot of numerical columns (after removing outliers)')\n",
    "\n",
    "# Iterate over the numerical columns except 'Rating' and 'BestScore'\n",
    "for i, col in enumerate(['UserReputation', 'ReplyCount', 'ThumbsUpCount', 'ThumbsDownCount']):\n",
    "    # Plot the box plot\n",
    "    axs[i // 2, i % 2].boxplot(new_train_data[col])\n",
    "    # Set the title\n",
    "    axs[i // 2, i % 2].set_title(f'{col} Distribution')\n",
    "\n",
    "# Adjust the layout\n",
    "plt.tight_layout()\n",
    "\n",
    "# Display the plot\n",
    "plt.show()"
   ]
  },
  {
   "cell_type": "code",
   "execution_count": 133,
   "metadata": {
    "execution": {
     "iopub.execute_input": "2024-04-10T13:55:42.823073Z",
     "iopub.status.busy": "2024-04-10T13:55:42.822782Z",
     "iopub.status.idle": "2024-04-10T13:55:42.900822Z",
     "shell.execute_reply": "2024-04-10T13:55:42.899816Z",
     "shell.execute_reply.started": "2024-04-10T13:55:42.823046Z"
    },
    "id": "Ucyi8nCrPTmz",
    "trusted": true
   },
   "outputs": [
    {
     "name": "stderr",
     "output_type": "stream",
     "text": [
      "C:\\Users\\fkvdn\\AppData\\Local\\Temp\\ipykernel_5788\\3956939109.py:10: SettingWithCopyWarning: \n",
      "A value is trying to be set on a copy of a slice from a DataFrame.\n",
      "Try using .loc[row_indexer,col_indexer] = value instead\n",
      "\n",
      "See the caveats in the documentation: https://pandas.pydata.org/pandas-docs/stable/user_guide/indexing.html#returning-a-view-versus-a-copy\n",
      "  new_train_data[numerical_features] = scaler.fit_transform(new_train_data[numerical_features])\n"
     ]
    }
   ],
   "source": [
    "\n",
    "from sklearn.preprocessing import StandardScaler\n",
    "\n",
    "# selection of  the columns to scale\n",
    "numerical_features = ['UserReputation', 'ReplyCount', 'ThumbsUpCount', 'ThumbsDownCount', 'BestScore']\n",
    "\n",
    "# Create the object scaler \n",
    "scaler = StandardScaler()\n",
    "\n",
    "# Fit and transform the train and test data\n",
    "new_train_data[numerical_features] = scaler.fit_transform(new_train_data[numerical_features])\n",
    "new_test_data[numerical_features] = scaler.fit_transform(new_test_data[numerical_features])\n"
   ]
  },
  {
   "cell_type": "code",
   "execution_count": 134,
   "metadata": {
    "execution": {
     "iopub.execute_input": "2024-04-10T13:55:42.902303Z",
     "iopub.status.busy": "2024-04-10T13:55:42.902023Z",
     "iopub.status.idle": "2024-04-10T13:55:42.915539Z",
     "shell.execute_reply": "2024-04-10T13:55:42.914543Z",
     "shell.execute_reply.started": "2024-04-10T13:55:42.902279Z"
    },
    "id": "wfUODICvqETZ",
    "outputId": "8694b883-8e8d-42eb-fccc-3e85ba397bed",
    "trusted": true
   },
   "outputs": [
    {
     "data": {
      "text/html": [
       "<div>\n",
       "<style scoped>\n",
       "    .dataframe tbody tr th:only-of-type {\n",
       "        vertical-align: middle;\n",
       "    }\n",
       "\n",
       "    .dataframe tbody tr th {\n",
       "        vertical-align: top;\n",
       "    }\n",
       "\n",
       "    .dataframe thead th {\n",
       "        text-align: right;\n",
       "    }\n",
       "</style>\n",
       "<table border=\"1\" class=\"dataframe\">\n",
       "  <thead>\n",
       "    <tr style=\"text-align: right;\">\n",
       "      <th></th>\n",
       "      <th>UserReputation</th>\n",
       "      <th>ReplyCount</th>\n",
       "      <th>ThumbsUpCount</th>\n",
       "      <th>ThumbsDownCount</th>\n",
       "      <th>Rating</th>\n",
       "      <th>BestScore</th>\n",
       "      <th>Recipe_Review</th>\n",
       "    </tr>\n",
       "  </thead>\n",
       "  <tbody>\n",
       "    <tr>\n",
       "      <th>1</th>\n",
       "      <td>0.0</td>\n",
       "      <td>-0.099564</td>\n",
       "      <td>-0.251453</td>\n",
       "      <td>0.156674</td>\n",
       "      <td>5</td>\n",
       "      <td>-0.358093</td>\n",
       "      <td>This is an easy and quick recipe that is great...</td>\n",
       "    </tr>\n",
       "    <tr>\n",
       "      <th>2</th>\n",
       "      <td>0.0</td>\n",
       "      <td>-0.099564</td>\n",
       "      <td>-0.251453</td>\n",
       "      <td>-0.158409</td>\n",
       "      <td>3</td>\n",
       "      <td>-0.358093</td>\n",
       "      <td>I think I was looking for something extra spec...</td>\n",
       "    </tr>\n",
       "    <tr>\n",
       "      <th>3</th>\n",
       "      <td>0.0</td>\n",
       "      <td>-0.099564</td>\n",
       "      <td>-0.251453</td>\n",
       "      <td>-0.158409</td>\n",
       "      <td>5</td>\n",
       "      <td>-0.358093</td>\n",
       "      <td>This is our favorite grilled chicken recipe.  ...</td>\n",
       "    </tr>\n",
       "    <tr>\n",
       "      <th>4</th>\n",
       "      <td>0.0</td>\n",
       "      <td>-0.099564</td>\n",
       "      <td>-0.251453</td>\n",
       "      <td>-0.158409</td>\n",
       "      <td>4</td>\n",
       "      <td>-0.358093</td>\n",
       "      <td>Great basic recipe. I added 2 teaspoons Tuscan...</td>\n",
       "    </tr>\n",
       "    <tr>\n",
       "      <th>5</th>\n",
       "      <td>0.0</td>\n",
       "      <td>-0.099564</td>\n",
       "      <td>0.002862</td>\n",
       "      <td>-0.158409</td>\n",
       "      <td>5</td>\n",
       "      <td>0.331920</td>\n",
       "      <td>Absolutely delicious!   Easy, tasty and filling!</td>\n",
       "    </tr>\n",
       "  </tbody>\n",
       "</table>\n",
       "</div>"
      ],
      "text/plain": [
       "   UserReputation  ReplyCount  ThumbsUpCount  ThumbsDownCount  Rating  \\\n",
       "1             0.0   -0.099564      -0.251453         0.156674       5   \n",
       "2             0.0   -0.099564      -0.251453        -0.158409       3   \n",
       "3             0.0   -0.099564      -0.251453        -0.158409       5   \n",
       "4             0.0   -0.099564      -0.251453        -0.158409       4   \n",
       "5             0.0   -0.099564       0.002862        -0.158409       5   \n",
       "\n",
       "   BestScore                                      Recipe_Review  \n",
       "1  -0.358093  This is an easy and quick recipe that is great...  \n",
       "2  -0.358093  I think I was looking for something extra spec...  \n",
       "3  -0.358093  This is our favorite grilled chicken recipe.  ...  \n",
       "4  -0.358093  Great basic recipe. I added 2 teaspoons Tuscan...  \n",
       "5   0.331920   Absolutely delicious!   Easy, tasty and filling!  "
      ]
     },
     "execution_count": 134,
     "metadata": {},
     "output_type": "execute_result"
    }
   ],
   "source": [
    "new_train_data.head()"
   ]
  },
  {
   "cell_type": "code",
   "execution_count": 135,
   "metadata": {
    "execution": {
     "iopub.execute_input": "2024-04-10T13:55:42.917239Z",
     "iopub.status.busy": "2024-04-10T13:55:42.916830Z",
     "iopub.status.idle": "2024-04-10T13:55:42.926235Z",
     "shell.execute_reply": "2024-04-10T13:55:42.925142Z",
     "shell.execute_reply.started": "2024-04-10T13:55:42.917207Z"
    },
    "id": "nZiUBCEIt9C6",
    "outputId": "95a684b6-1b95-442c-b93d-6df41f5508c8",
    "trusted": true
   },
   "outputs": [
    {
     "data": {
      "text/plain": [
       "(12708, 7)"
      ]
     },
     "execution_count": 135,
     "metadata": {},
     "output_type": "execute_result"
    }
   ],
   "source": [
    "new_train_data.shape"
   ]
  },
  {
   "cell_type": "code",
   "execution_count": 136,
   "metadata": {
    "execution": {
     "iopub.execute_input": "2024-04-10T13:55:42.932784Z",
     "iopub.status.busy": "2024-04-10T13:55:42.932517Z",
     "iopub.status.idle": "2024-04-10T13:55:43.776254Z",
     "shell.execute_reply": "2024-04-10T13:55:43.775391Z",
     "shell.execute_reply.started": "2024-04-10T13:55:42.932752Z"
    },
    "id": "vV2p6xHyqHUt",
    "outputId": "97220fc7-b6ab-462a-9f66-65f3c830dfcc",
    "trusted": true
   },
   "outputs": [
    {
     "name": "stderr",
     "output_type": "stream",
     "text": [
      "C:\\Users\\fkvdn\\AppData\\Local\\Temp\\ipykernel_5788\\3481092407.py:7: UserWarning: Dataset has 0 variance; skipping density estimate. Pass `warn_singular=False` to disable this warning.\n",
      "  sns.kdeplot(new_train_data[col], ax=ax)\n"
     ]
    },
    {
     "data": {
      "image/png": "[encoded data removed]",
      "text/plain": [
       "<Figure size 1000x1000 with 1 Axes>"
      ]
     },
     "metadata": {},
     "output_type": "display_data"
    }
   ],
   "source": [
    "# Create a figure and axes\n",
    "fig, ax = plt.subplots(figsize=(10, 10))\n",
    "\n",
    "# Iterate over the numerical columns\n",
    "for col in ['UserReputation', 'ReplyCount', 'ThumbsUpCount', 'ThumbsDownCount', 'BestScore']:\n",
    "    # Plot the KDE plot\n",
    "    sns.kdeplot(new_train_data[col], ax=ax)\n",
    "\n",
    "# Set the title\n",
    "ax.set_title('KDE graph of Numerical Columns (after scaling)')\n",
    "\n",
    "# Display the plot\n",
    "plt.show()"
   ]
  },
  {
   "cell_type": "markdown",
   "metadata": {},
   "source": [
    "- Outlier Impact:\n",
    "  - Certain Features Less Affected: Reply count, thumbs up count, and thumbs down count weren't significantly influenced by outliers. However, the user reputation box plot clearly revealed their impact.\n",
    "  - Outlier Removal and Model Training: Removing outliers helps ensure that any methods sensitive to outliers won't behave erratically during model training.\n",
    "  \n",
    "  \n",
    "- KDE Distribution and Scaling:\n",
    "  - Uneven Distribution Before Scaling: The KDE plot before scaling shows that a single feature dominated the density of the numerical data. In simpler terms, most of the data points were clustered around a single feature.\n",
    "  - Balanced Distribution After Scaling: After scaling all the features, we see some negative values that weren't present earlier. However, the density is now spread more evenly across all features, indicating a more balanced distribution.  "
   ]
  },
  {
   "cell_type": "markdown",
   "metadata": {},
   "source": [
    "# Preparing Reviews of the users\n",
    "\n",
    "The Recipe_Review column stands out in our data. While we can't simply remove it because reviews clearly influence recipe ratings, its string format containing human responses necessitates Natural Language Processing (NLP) techniques for handling it effectively.\n",
    "\n",
    "So we Transform the text in the Recipe_Review column using TF-IDF vectorization. This process will convert the reviews into numerical features.\n",
    "\n",
    "By applying these methods (like TF-IDF vectorization), we essentially bridge the gap between human language and machines. The reviews are transformed into a format that computers can understand and process effectively."
   ]
  },
  {
   "cell_type": "code",
   "execution_count": 137,
   "metadata": {
    "execution": {
     "iopub.execute_input": "2024-04-10T13:55:43.777837Z",
     "iopub.status.busy": "2024-04-10T13:55:43.777469Z",
     "iopub.status.idle": "2024-04-10T13:55:43.791616Z",
     "shell.execute_reply": "2024-04-10T13:55:43.790777Z",
     "shell.execute_reply.started": "2024-04-10T13:55:43.777805Z"
    },
    "id": "MQLBE9F9quMF",
    "outputId": "59edeeba-7a4b-42b1-e3d5-cfd00c79d5af",
    "trusted": true
   },
   "outputs": [
    {
     "name": "stdout",
     "output_type": "stream",
     "text": [
      "[2984, 11654]\n"
     ]
    }
   ],
   "source": [
    "non_string_indices = []\n",
    "\n",
    "# Iterate over each row in the 'Recipe_Review' column\n",
    "for i, row in new_train_data['Recipe_Review'].items():\n",
    "    # Check if the data type is not string\n",
    "    if not isinstance(row, str):\n",
    "        non_string_indices.append(i)\n",
    "\n",
    "# Print the indices of non-string/empty row values in the 'Recipe_Review'\n",
    "print(non_string_indices)\n"
   ]
  },
  {
   "cell_type": "code",
   "execution_count": 138,
   "metadata": {
    "execution": {
     "iopub.execute_input": "2024-04-10T13:55:43.793342Z",
     "iopub.status.busy": "2024-04-10T13:55:43.792872Z",
     "iopub.status.idle": "2024-04-10T13:55:43.805462Z",
     "shell.execute_reply": "2024-04-10T13:55:43.804523Z",
     "shell.execute_reply.started": "2024-04-10T13:55:43.793305Z"
    },
    "id": "grEO1npLrqan",
    "trusted": true
   },
   "outputs": [],
   "source": [
    "new_train_data = new_train_data.drop(non_string_indices)"
   ]
  },
  {
   "cell_type": "code",
   "execution_count": 139,
   "metadata": {
    "execution": {
     "iopub.execute_input": "2024-04-10T13:55:43.807194Z",
     "iopub.status.busy": "2024-04-10T13:55:43.806813Z",
     "iopub.status.idle": "2024-04-10T13:55:43.816499Z",
     "shell.execute_reply": "2024-04-10T13:55:43.815479Z",
     "shell.execute_reply.started": "2024-04-10T13:55:43.807163Z"
    },
    "id": "TYyUIXA60_K0",
    "outputId": "66059473-89f8-42e0-a95f-1230461fe534",
    "trusted": true
   },
   "outputs": [
    {
     "name": "stdout",
     "output_type": "stream",
     "text": [
      "Index([], dtype='int64')\n"
     ]
    }
   ],
   "source": [
    "\n",
    "# Finding the indices of rows with NaN values in any column\n",
    "nan_indices = new_train_data.index[new_train_data.isna().any(axis=1)]\n",
    "\n",
    "# Printing the indices\n",
    "print(nan_indices)\n"
   ]
  },
  {
   "cell_type": "code",
   "execution_count": 140,
   "metadata": {
    "execution": {
     "iopub.execute_input": "2024-04-10T13:55:43.819522Z",
     "iopub.status.busy": "2024-04-10T13:55:43.819233Z",
     "iopub.status.idle": "2024-04-10T13:55:43.825936Z",
     "shell.execute_reply": "2024-04-10T13:55:43.825029Z",
     "shell.execute_reply.started": "2024-04-10T13:55:43.819498Z"
    },
    "trusted": true
   },
   "outputs": [],
   "source": [
    "# This is done because we have no idea if the feature 'Recipe_Review' has same data in new_train_data and new_test_data.\n",
    "# So we need to concatinate the data of new_train_data and new_test_data.\n",
    "# I came to this solution when I fitted on new_train_data and when I try to transform the new_test_data it gave me error.\n",
    "# That on some values the TfidfVectorizer is not fitted.\n",
    "fit_data = pd.concat([new_train_data['Recipe_Review'],new_test_data['Recipe_Review']])"
   ]
  },
  {
   "cell_type": "code",
   "execution_count": 141,
   "metadata": {
    "execution": {
     "iopub.execute_input": "2024-04-10T13:55:43.827247Z",
     "iopub.status.busy": "2024-04-10T13:55:43.826916Z",
     "iopub.status.idle": "2024-04-10T13:55:43.838724Z",
     "shell.execute_reply": "2024-04-10T13:55:43.837862Z",
     "shell.execute_reply.started": "2024-04-10T13:55:43.827215Z"
    },
    "trusted": true
   },
   "outputs": [
    {
     "data": {
      "text/plain": [
       "1       This is an easy and quick recipe that is great...\n",
       "2       I think I was looking for something extra spec...\n",
       "3       This is our favorite grilled chicken recipe.  ...\n",
       "4       Great basic recipe. I added 2 teaspoons Tuscan...\n",
       "5        Absolutely delicious!   Easy, tasty and filling!\n",
       "                              ...                        \n",
       "4541    This is an absolutely wonderful seafood recipe...\n",
       "4542    This us a definite &#34;OMG&#34;.  Tastes sinf...\n",
       "4543    absolutely great....even husband and grandson ...\n",
       "4544    I followed directions. It tastes very bland. V...\n",
       "4545    After reading the amazing reviews, I decided t...\n",
       "Name: Recipe_Review, Length: 17252, dtype: object"
      ]
     },
     "execution_count": 141,
     "metadata": {},
     "output_type": "execute_result"
    }
   ],
   "source": [
    "fit_data"
   ]
  },
  {
   "cell_type": "code",
   "execution_count": 142,
   "metadata": {
    "execution": {
     "iopub.execute_input": "2024-04-10T13:55:43.840835Z",
     "iopub.status.busy": "2024-04-10T13:55:43.839855Z",
     "iopub.status.idle": "2024-04-10T13:55:45.485419Z",
     "shell.execute_reply": "2024-04-10T13:55:45.484625Z",
     "shell.execute_reply.started": "2024-04-10T13:55:43.840804Z"
    },
    "trusted": true
   },
   "outputs": [
    {
     "name": "stdout",
     "output_type": "stream",
     "text": [
      "(12706, 6151)\n"
     ]
    }
   ],
   "source": [
    "from sklearn.feature_extraction.text import TfidfVectorizer\n",
    "\n",
    "# Create a TfidVectorizer\n",
    "tf = TfidfVectorizer(stop_words='english', max_features=6151)\n",
    "\n",
    "# Fitting the above fit_data\n",
    "tf.fit(fit_data)\n",
    "\n",
    "# transform the 'Recipe_Review' column\n",
    "review_matrix_train = tf.transform(new_train_data['Recipe_Review'])\n",
    "\n",
    "# Print the shape of the transformed data\n",
    "print(review_matrix_train.shape)\n",
    "\n",
    "# Create a DataFrame with the review matrix\n",
    "review_df_train = pd.DataFrame(review_matrix_train.toarray(), columns=tf.get_feature_names_out())\n"
   ]
  },
  {
   "cell_type": "code",
   "execution_count": 143,
   "metadata": {
    "execution": {
     "iopub.execute_input": "2024-04-10T13:55:45.486835Z",
     "iopub.status.busy": "2024-04-10T13:55:45.486503Z",
     "iopub.status.idle": "2024-04-10T13:55:45.539119Z",
     "shell.execute_reply": "2024-04-10T13:55:45.538302Z",
     "shell.execute_reply.started": "2024-04-10T13:55:45.486810Z"
    },
    "id": "Refk5FmQ1Umt",
    "outputId": "b00ded9f-88fd-4bc9-a3a8-19d81c73a2a6",
    "trusted": true
   },
   "outputs": [
    {
     "data": {
      "text/html": [
       "<div>\n",
       "<style scoped>\n",
       "    .dataframe tbody tr th:only-of-type {\n",
       "        vertical-align: middle;\n",
       "    }\n",
       "\n",
       "    .dataframe tbody tr th {\n",
       "        vertical-align: top;\n",
       "    }\n",
       "\n",
       "    .dataframe thead th {\n",
       "        text-align: right;\n",
       "    }\n",
       "</style>\n",
       "<table border=\"1\" class=\"dataframe\">\n",
       "  <thead>\n",
       "    <tr style=\"text-align: right;\">\n",
       "      <th></th>\n",
       "      <th>00</th>\n",
       "      <th>02</th>\n",
       "      <th>03</th>\n",
       "      <th>05</th>\n",
       "      <th>08</th>\n",
       "      <th>10</th>\n",
       "      <th>100</th>\n",
       "      <th>10x</th>\n",
       "      <th>10x13</th>\n",
       "      <th>10x15</th>\n",
       "      <th>...</th>\n",
       "      <th>zipper</th>\n",
       "      <th>zippy</th>\n",
       "      <th>zoodles</th>\n",
       "      <th>zucc</th>\n",
       "      <th>zucchini</th>\n",
       "      <th>zucchinis</th>\n",
       "      <th>zuchini</th>\n",
       "      <th>zuchinni</th>\n",
       "      <th>zucs</th>\n",
       "      <th>zuke</th>\n",
       "    </tr>\n",
       "  </thead>\n",
       "  <tbody>\n",
       "    <tr>\n",
       "      <th>0</th>\n",
       "      <td>0.0</td>\n",
       "      <td>0.0</td>\n",
       "      <td>0.0</td>\n",
       "      <td>0.0</td>\n",
       "      <td>0.0</td>\n",
       "      <td>0.0</td>\n",
       "      <td>0.0</td>\n",
       "      <td>0.0</td>\n",
       "      <td>0.0</td>\n",
       "      <td>0.0</td>\n",
       "      <td>...</td>\n",
       "      <td>0.0</td>\n",
       "      <td>0.0</td>\n",
       "      <td>0.0</td>\n",
       "      <td>0.0</td>\n",
       "      <td>0.0</td>\n",
       "      <td>0.0</td>\n",
       "      <td>0.0</td>\n",
       "      <td>0.0</td>\n",
       "      <td>0.0</td>\n",
       "      <td>0.0</td>\n",
       "    </tr>\n",
       "    <tr>\n",
       "      <th>1</th>\n",
       "      <td>0.0</td>\n",
       "      <td>0.0</td>\n",
       "      <td>0.0</td>\n",
       "      <td>0.0</td>\n",
       "      <td>0.0</td>\n",
       "      <td>0.0</td>\n",
       "      <td>0.0</td>\n",
       "      <td>0.0</td>\n",
       "      <td>0.0</td>\n",
       "      <td>0.0</td>\n",
       "      <td>...</td>\n",
       "      <td>0.0</td>\n",
       "      <td>0.0</td>\n",
       "      <td>0.0</td>\n",
       "      <td>0.0</td>\n",
       "      <td>0.0</td>\n",
       "      <td>0.0</td>\n",
       "      <td>0.0</td>\n",
       "      <td>0.0</td>\n",
       "      <td>0.0</td>\n",
       "      <td>0.0</td>\n",
       "    </tr>\n",
       "    <tr>\n",
       "      <th>2</th>\n",
       "      <td>0.0</td>\n",
       "      <td>0.0</td>\n",
       "      <td>0.0</td>\n",
       "      <td>0.0</td>\n",
       "      <td>0.0</td>\n",
       "      <td>0.0</td>\n",
       "      <td>0.0</td>\n",
       "      <td>0.0</td>\n",
       "      <td>0.0</td>\n",
       "      <td>0.0</td>\n",
       "      <td>...</td>\n",
       "      <td>0.0</td>\n",
       "      <td>0.0</td>\n",
       "      <td>0.0</td>\n",
       "      <td>0.0</td>\n",
       "      <td>0.0</td>\n",
       "      <td>0.0</td>\n",
       "      <td>0.0</td>\n",
       "      <td>0.0</td>\n",
       "      <td>0.0</td>\n",
       "      <td>0.0</td>\n",
       "    </tr>\n",
       "    <tr>\n",
       "      <th>3</th>\n",
       "      <td>0.0</td>\n",
       "      <td>0.0</td>\n",
       "      <td>0.0</td>\n",
       "      <td>0.0</td>\n",
       "      <td>0.0</td>\n",
       "      <td>0.0</td>\n",
       "      <td>0.0</td>\n",
       "      <td>0.0</td>\n",
       "      <td>0.0</td>\n",
       "      <td>0.0</td>\n",
       "      <td>...</td>\n",
       "      <td>0.0</td>\n",
       "      <td>0.0</td>\n",
       "      <td>0.0</td>\n",
       "      <td>0.0</td>\n",
       "      <td>0.0</td>\n",
       "      <td>0.0</td>\n",
       "      <td>0.0</td>\n",
       "      <td>0.0</td>\n",
       "      <td>0.0</td>\n",
       "      <td>0.0</td>\n",
       "    </tr>\n",
       "    <tr>\n",
       "      <th>4</th>\n",
       "      <td>0.0</td>\n",
       "      <td>0.0</td>\n",
       "      <td>0.0</td>\n",
       "      <td>0.0</td>\n",
       "      <td>0.0</td>\n",
       "      <td>0.0</td>\n",
       "      <td>0.0</td>\n",
       "      <td>0.0</td>\n",
       "      <td>0.0</td>\n",
       "      <td>0.0</td>\n",
       "      <td>...</td>\n",
       "      <td>0.0</td>\n",
       "      <td>0.0</td>\n",
       "      <td>0.0</td>\n",
       "      <td>0.0</td>\n",
       "      <td>0.0</td>\n",
       "      <td>0.0</td>\n",
       "      <td>0.0</td>\n",
       "      <td>0.0</td>\n",
       "      <td>0.0</td>\n",
       "      <td>0.0</td>\n",
       "    </tr>\n",
       "    <tr>\n",
       "      <th>...</th>\n",
       "      <td>...</td>\n",
       "      <td>...</td>\n",
       "      <td>...</td>\n",
       "      <td>...</td>\n",
       "      <td>...</td>\n",
       "      <td>...</td>\n",
       "      <td>...</td>\n",
       "      <td>...</td>\n",
       "      <td>...</td>\n",
       "      <td>...</td>\n",
       "      <td>...</td>\n",
       "      <td>...</td>\n",
       "      <td>...</td>\n",
       "      <td>...</td>\n",
       "      <td>...</td>\n",
       "      <td>...</td>\n",
       "      <td>...</td>\n",
       "      <td>...</td>\n",
       "      <td>...</td>\n",
       "      <td>...</td>\n",
       "      <td>...</td>\n",
       "    </tr>\n",
       "    <tr>\n",
       "      <th>12701</th>\n",
       "      <td>0.0</td>\n",
       "      <td>0.0</td>\n",
       "      <td>0.0</td>\n",
       "      <td>0.0</td>\n",
       "      <td>0.0</td>\n",
       "      <td>0.0</td>\n",
       "      <td>0.0</td>\n",
       "      <td>0.0</td>\n",
       "      <td>0.0</td>\n",
       "      <td>0.0</td>\n",
       "      <td>...</td>\n",
       "      <td>0.0</td>\n",
       "      <td>0.0</td>\n",
       "      <td>0.0</td>\n",
       "      <td>0.0</td>\n",
       "      <td>0.0</td>\n",
       "      <td>0.0</td>\n",
       "      <td>0.0</td>\n",
       "      <td>0.0</td>\n",
       "      <td>0.0</td>\n",
       "      <td>0.0</td>\n",
       "    </tr>\n",
       "    <tr>\n",
       "      <th>12702</th>\n",
       "      <td>0.0</td>\n",
       "      <td>0.0</td>\n",
       "      <td>0.0</td>\n",
       "      <td>0.0</td>\n",
       "      <td>0.0</td>\n",
       "      <td>0.0</td>\n",
       "      <td>0.0</td>\n",
       "      <td>0.0</td>\n",
       "      <td>0.0</td>\n",
       "      <td>0.0</td>\n",
       "      <td>...</td>\n",
       "      <td>0.0</td>\n",
       "      <td>0.0</td>\n",
       "      <td>0.0</td>\n",
       "      <td>0.0</td>\n",
       "      <td>0.0</td>\n",
       "      <td>0.0</td>\n",
       "      <td>0.0</td>\n",
       "      <td>0.0</td>\n",
       "      <td>0.0</td>\n",
       "      <td>0.0</td>\n",
       "    </tr>\n",
       "    <tr>\n",
       "      <th>12703</th>\n",
       "      <td>0.0</td>\n",
       "      <td>0.0</td>\n",
       "      <td>0.0</td>\n",
       "      <td>0.0</td>\n",
       "      <td>0.0</td>\n",
       "      <td>0.0</td>\n",
       "      <td>0.0</td>\n",
       "      <td>0.0</td>\n",
       "      <td>0.0</td>\n",
       "      <td>0.0</td>\n",
       "      <td>...</td>\n",
       "      <td>0.0</td>\n",
       "      <td>0.0</td>\n",
       "      <td>0.0</td>\n",
       "      <td>0.0</td>\n",
       "      <td>0.0</td>\n",
       "      <td>0.0</td>\n",
       "      <td>0.0</td>\n",
       "      <td>0.0</td>\n",
       "      <td>0.0</td>\n",
       "      <td>0.0</td>\n",
       "    </tr>\n",
       "    <tr>\n",
       "      <th>12704</th>\n",
       "      <td>0.0</td>\n",
       "      <td>0.0</td>\n",
       "      <td>0.0</td>\n",
       "      <td>0.0</td>\n",
       "      <td>0.0</td>\n",
       "      <td>0.0</td>\n",
       "      <td>0.0</td>\n",
       "      <td>0.0</td>\n",
       "      <td>0.0</td>\n",
       "      <td>0.0</td>\n",
       "      <td>...</td>\n",
       "      <td>0.0</td>\n",
       "      <td>0.0</td>\n",
       "      <td>0.0</td>\n",
       "      <td>0.0</td>\n",
       "      <td>0.0</td>\n",
       "      <td>0.0</td>\n",
       "      <td>0.0</td>\n",
       "      <td>0.0</td>\n",
       "      <td>0.0</td>\n",
       "      <td>0.0</td>\n",
       "    </tr>\n",
       "    <tr>\n",
       "      <th>12705</th>\n",
       "      <td>0.0</td>\n",
       "      <td>0.0</td>\n",
       "      <td>0.0</td>\n",
       "      <td>0.0</td>\n",
       "      <td>0.0</td>\n",
       "      <td>0.0</td>\n",
       "      <td>0.0</td>\n",
       "      <td>0.0</td>\n",
       "      <td>0.0</td>\n",
       "      <td>0.0</td>\n",
       "      <td>...</td>\n",
       "      <td>0.0</td>\n",
       "      <td>0.0</td>\n",
       "      <td>0.0</td>\n",
       "      <td>0.0</td>\n",
       "      <td>0.0</td>\n",
       "      <td>0.0</td>\n",
       "      <td>0.0</td>\n",
       "      <td>0.0</td>\n",
       "      <td>0.0</td>\n",
       "      <td>0.0</td>\n",
       "    </tr>\n",
       "  </tbody>\n",
       "</table>\n",
       "<p>12706 rows × 6151 columns</p>\n",
       "</div>"
      ],
      "text/plain": [
       "        00   02   03   05   08   10  100  10x  10x13  10x15  ...  zipper  \\\n",
       "0      0.0  0.0  0.0  0.0  0.0  0.0  0.0  0.0    0.0    0.0  ...     0.0   \n",
       "1      0.0  0.0  0.0  0.0  0.0  0.0  0.0  0.0    0.0    0.0  ...     0.0   \n",
       "2      0.0  0.0  0.0  0.0  0.0  0.0  0.0  0.0    0.0    0.0  ...     0.0   \n",
       "3      0.0  0.0  0.0  0.0  0.0  0.0  0.0  0.0    0.0    0.0  ...     0.0   \n",
       "4      0.0  0.0  0.0  0.0  0.0  0.0  0.0  0.0    0.0    0.0  ...     0.0   \n",
       "...    ...  ...  ...  ...  ...  ...  ...  ...    ...    ...  ...     ...   \n",
       "12701  0.0  0.0  0.0  0.0  0.0  0.0  0.0  0.0    0.0    0.0  ...     0.0   \n",
       "12702  0.0  0.0  0.0  0.0  0.0  0.0  0.0  0.0    0.0    0.0  ...     0.0   \n",
       "12703  0.0  0.0  0.0  0.0  0.0  0.0  0.0  0.0    0.0    0.0  ...     0.0   \n",
       "12704  0.0  0.0  0.0  0.0  0.0  0.0  0.0  0.0    0.0    0.0  ...     0.0   \n",
       "12705  0.0  0.0  0.0  0.0  0.0  0.0  0.0  0.0    0.0    0.0  ...     0.0   \n",
       "\n",
       "       zippy  zoodles  zucc  zucchini  zucchinis  zuchini  zuchinni  zucs  \\\n",
       "0        0.0      0.0   0.0       0.0        0.0      0.0       0.0   0.0   \n",
       "1        0.0      0.0   0.0       0.0        0.0      0.0       0.0   0.0   \n",
       "2        0.0      0.0   0.0       0.0        0.0      0.0       0.0   0.0   \n",
       "3        0.0      0.0   0.0       0.0        0.0      0.0       0.0   0.0   \n",
       "4        0.0      0.0   0.0       0.0        0.0      0.0       0.0   0.0   \n",
       "...      ...      ...   ...       ...        ...      ...       ...   ...   \n",
       "12701    0.0      0.0   0.0       0.0        0.0      0.0       0.0   0.0   \n",
       "12702    0.0      0.0   0.0       0.0        0.0      0.0       0.0   0.0   \n",
       "12703    0.0      0.0   0.0       0.0        0.0      0.0       0.0   0.0   \n",
       "12704    0.0      0.0   0.0       0.0        0.0      0.0       0.0   0.0   \n",
       "12705    0.0      0.0   0.0       0.0        0.0      0.0       0.0   0.0   \n",
       "\n",
       "       zuke  \n",
       "0       0.0  \n",
       "1       0.0  \n",
       "2       0.0  \n",
       "3       0.0  \n",
       "4       0.0  \n",
       "...     ...  \n",
       "12701   0.0  \n",
       "12702   0.0  \n",
       "12703   0.0  \n",
       "12704   0.0  \n",
       "12705   0.0  \n",
       "\n",
       "[12706 rows x 6151 columns]"
      ]
     },
     "execution_count": 143,
     "metadata": {},
     "output_type": "execute_result"
    }
   ],
   "source": [
    "review_df_train"
   ]
  },
  {
   "cell_type": "code",
   "execution_count": 144,
   "metadata": {
    "execution": {
     "iopub.execute_input": "2024-04-10T13:55:45.540319Z",
     "iopub.status.busy": "2024-04-10T13:55:45.540053Z",
     "iopub.status.idle": "2024-04-10T13:55:45.545684Z",
     "shell.execute_reply": "2024-04-10T13:55:45.544790Z",
     "shell.execute_reply.started": "2024-04-10T13:55:45.540296Z"
    },
    "id": "dImf0zUP4R74",
    "outputId": "42384386-b7b4-483e-865b-0f4f539a7351",
    "trusted": true
   },
   "outputs": [
    {
     "data": {
      "text/plain": [
       "(12706, 7)"
      ]
     },
     "execution_count": 144,
     "metadata": {},
     "output_type": "execute_result"
    }
   ],
   "source": [
    "new_train_data.shape"
   ]
  },
  {
   "cell_type": "code",
   "execution_count": 145,
   "metadata": {
    "execution": {
     "iopub.execute_input": "2024-04-10T13:55:45.547097Z",
     "iopub.status.busy": "2024-04-10T13:55:45.546784Z",
     "iopub.status.idle": "2024-04-10T13:55:47.099622Z",
     "shell.execute_reply": "2024-04-10T13:55:47.098788Z",
     "shell.execute_reply.started": "2024-04-10T13:55:45.547067Z"
    },
    "id": "ItAzm45C1Yzk",
    "trusted": true
   },
   "outputs": [],
   "source": [
    "new_train_data = pd.concat([new_train_data.reset_index(drop=True), review_df_train.reset_index(drop=True)], axis=1)"
   ]
  },
  {
   "cell_type": "code",
   "execution_count": 146,
   "metadata": {
    "execution": {
     "iopub.execute_input": "2024-04-10T13:55:47.100939Z",
     "iopub.status.busy": "2024-04-10T13:55:47.100677Z",
     "iopub.status.idle": "2024-04-10T13:55:47.106488Z",
     "shell.execute_reply": "2024-04-10T13:55:47.105636Z",
     "shell.execute_reply.started": "2024-04-10T13:55:47.100917Z"
    },
    "id": "vQxpKuHa3vau",
    "outputId": "764e03e3-454f-4198-8c6a-4679623fb71c",
    "trusted": true
   },
   "outputs": [
    {
     "data": {
      "text/plain": [
       "(12706, 6158)"
      ]
     },
     "execution_count": 146,
     "metadata": {},
     "output_type": "execute_result"
    }
   ],
   "source": [
    "new_train_data.shape"
   ]
  },
  {
   "cell_type": "code",
   "execution_count": 147,
   "metadata": {
    "execution": {
     "iopub.execute_input": "2024-04-10T13:55:47.108364Z",
     "iopub.status.busy": "2024-04-10T13:55:47.107765Z",
     "iopub.status.idle": "2024-04-10T13:55:47.153445Z",
     "shell.execute_reply": "2024-04-10T13:55:47.152626Z",
     "shell.execute_reply.started": "2024-04-10T13:55:47.108331Z"
    },
    "trusted": true
   },
   "outputs": [
    {
     "data": {
      "text/html": [
       "<div>\n",
       "<style scoped>\n",
       "    .dataframe tbody tr th:only-of-type {\n",
       "        vertical-align: middle;\n",
       "    }\n",
       "\n",
       "    .dataframe tbody tr th {\n",
       "        vertical-align: top;\n",
       "    }\n",
       "\n",
       "    .dataframe thead th {\n",
       "        text-align: right;\n",
       "    }\n",
       "</style>\n",
       "<table border=\"1\" class=\"dataframe\">\n",
       "  <thead>\n",
       "    <tr style=\"text-align: right;\">\n",
       "      <th></th>\n",
       "      <th>UserReputation</th>\n",
       "      <th>ReplyCount</th>\n",
       "      <th>ThumbsUpCount</th>\n",
       "      <th>ThumbsDownCount</th>\n",
       "      <th>Rating</th>\n",
       "      <th>BestScore</th>\n",
       "      <th>Recipe_Review</th>\n",
       "      <th>00</th>\n",
       "      <th>02</th>\n",
       "      <th>03</th>\n",
       "      <th>...</th>\n",
       "      <th>zipper</th>\n",
       "      <th>zippy</th>\n",
       "      <th>zoodles</th>\n",
       "      <th>zucc</th>\n",
       "      <th>zucchini</th>\n",
       "      <th>zucchinis</th>\n",
       "      <th>zuchini</th>\n",
       "      <th>zuchinni</th>\n",
       "      <th>zucs</th>\n",
       "      <th>zuke</th>\n",
       "    </tr>\n",
       "  </thead>\n",
       "  <tbody>\n",
       "    <tr>\n",
       "      <th>0</th>\n",
       "      <td>0.0</td>\n",
       "      <td>-0.099564</td>\n",
       "      <td>-0.251453</td>\n",
       "      <td>0.156674</td>\n",
       "      <td>5</td>\n",
       "      <td>-0.358093</td>\n",
       "      <td>This is an easy and quick recipe that is great...</td>\n",
       "      <td>0.0</td>\n",
       "      <td>0.0</td>\n",
       "      <td>0.0</td>\n",
       "      <td>...</td>\n",
       "      <td>0.0</td>\n",
       "      <td>0.0</td>\n",
       "      <td>0.0</td>\n",
       "      <td>0.0</td>\n",
       "      <td>0.0</td>\n",
       "      <td>0.0</td>\n",
       "      <td>0.0</td>\n",
       "      <td>0.0</td>\n",
       "      <td>0.0</td>\n",
       "      <td>0.0</td>\n",
       "    </tr>\n",
       "    <tr>\n",
       "      <th>1</th>\n",
       "      <td>0.0</td>\n",
       "      <td>-0.099564</td>\n",
       "      <td>-0.251453</td>\n",
       "      <td>-0.158409</td>\n",
       "      <td>3</td>\n",
       "      <td>-0.358093</td>\n",
       "      <td>I think I was looking for something extra spec...</td>\n",
       "      <td>0.0</td>\n",
       "      <td>0.0</td>\n",
       "      <td>0.0</td>\n",
       "      <td>...</td>\n",
       "      <td>0.0</td>\n",
       "      <td>0.0</td>\n",
       "      <td>0.0</td>\n",
       "      <td>0.0</td>\n",
       "      <td>0.0</td>\n",
       "      <td>0.0</td>\n",
       "      <td>0.0</td>\n",
       "      <td>0.0</td>\n",
       "      <td>0.0</td>\n",
       "      <td>0.0</td>\n",
       "    </tr>\n",
       "    <tr>\n",
       "      <th>2</th>\n",
       "      <td>0.0</td>\n",
       "      <td>-0.099564</td>\n",
       "      <td>-0.251453</td>\n",
       "      <td>-0.158409</td>\n",
       "      <td>5</td>\n",
       "      <td>-0.358093</td>\n",
       "      <td>This is our favorite grilled chicken recipe.  ...</td>\n",
       "      <td>0.0</td>\n",
       "      <td>0.0</td>\n",
       "      <td>0.0</td>\n",
       "      <td>...</td>\n",
       "      <td>0.0</td>\n",
       "      <td>0.0</td>\n",
       "      <td>0.0</td>\n",
       "      <td>0.0</td>\n",
       "      <td>0.0</td>\n",
       "      <td>0.0</td>\n",
       "      <td>0.0</td>\n",
       "      <td>0.0</td>\n",
       "      <td>0.0</td>\n",
       "      <td>0.0</td>\n",
       "    </tr>\n",
       "    <tr>\n",
       "      <th>3</th>\n",
       "      <td>0.0</td>\n",
       "      <td>-0.099564</td>\n",
       "      <td>-0.251453</td>\n",
       "      <td>-0.158409</td>\n",
       "      <td>4</td>\n",
       "      <td>-0.358093</td>\n",
       "      <td>Great basic recipe. I added 2 teaspoons Tuscan...</td>\n",
       "      <td>0.0</td>\n",
       "      <td>0.0</td>\n",
       "      <td>0.0</td>\n",
       "      <td>...</td>\n",
       "      <td>0.0</td>\n",
       "      <td>0.0</td>\n",
       "      <td>0.0</td>\n",
       "      <td>0.0</td>\n",
       "      <td>0.0</td>\n",
       "      <td>0.0</td>\n",
       "      <td>0.0</td>\n",
       "      <td>0.0</td>\n",
       "      <td>0.0</td>\n",
       "      <td>0.0</td>\n",
       "    </tr>\n",
       "    <tr>\n",
       "      <th>4</th>\n",
       "      <td>0.0</td>\n",
       "      <td>-0.099564</td>\n",
       "      <td>0.002862</td>\n",
       "      <td>-0.158409</td>\n",
       "      <td>5</td>\n",
       "      <td>0.331920</td>\n",
       "      <td>Absolutely delicious!   Easy, tasty and filling!</td>\n",
       "      <td>0.0</td>\n",
       "      <td>0.0</td>\n",
       "      <td>0.0</td>\n",
       "      <td>...</td>\n",
       "      <td>0.0</td>\n",
       "      <td>0.0</td>\n",
       "      <td>0.0</td>\n",
       "      <td>0.0</td>\n",
       "      <td>0.0</td>\n",
       "      <td>0.0</td>\n",
       "      <td>0.0</td>\n",
       "      <td>0.0</td>\n",
       "      <td>0.0</td>\n",
       "      <td>0.0</td>\n",
       "    </tr>\n",
       "    <tr>\n",
       "      <th>...</th>\n",
       "      <td>...</td>\n",
       "      <td>...</td>\n",
       "      <td>...</td>\n",
       "      <td>...</td>\n",
       "      <td>...</td>\n",
       "      <td>...</td>\n",
       "      <td>...</td>\n",
       "      <td>...</td>\n",
       "      <td>...</td>\n",
       "      <td>...</td>\n",
       "      <td>...</td>\n",
       "      <td>...</td>\n",
       "      <td>...</td>\n",
       "      <td>...</td>\n",
       "      <td>...</td>\n",
       "      <td>...</td>\n",
       "      <td>...</td>\n",
       "      <td>...</td>\n",
       "      <td>...</td>\n",
       "      <td>...</td>\n",
       "      <td>...</td>\n",
       "    </tr>\n",
       "    <tr>\n",
       "      <th>12701</th>\n",
       "      <td>0.0</td>\n",
       "      <td>-0.099564</td>\n",
       "      <td>-0.251453</td>\n",
       "      <td>-0.158409</td>\n",
       "      <td>5</td>\n",
       "      <td>-0.358093</td>\n",
       "      <td>Delicious!! Very easy to make! One minor chang...</td>\n",
       "      <td>0.0</td>\n",
       "      <td>0.0</td>\n",
       "      <td>0.0</td>\n",
       "      <td>...</td>\n",
       "      <td>0.0</td>\n",
       "      <td>0.0</td>\n",
       "      <td>0.0</td>\n",
       "      <td>0.0</td>\n",
       "      <td>0.0</td>\n",
       "      <td>0.0</td>\n",
       "      <td>0.0</td>\n",
       "      <td>0.0</td>\n",
       "      <td>0.0</td>\n",
       "      <td>0.0</td>\n",
       "    </tr>\n",
       "    <tr>\n",
       "      <th>12702</th>\n",
       "      <td>0.0</td>\n",
       "      <td>-0.099564</td>\n",
       "      <td>-0.251453</td>\n",
       "      <td>-0.158409</td>\n",
       "      <td>5</td>\n",
       "      <td>-0.358093</td>\n",
       "      <td>I made this pie for my family and they loved i...</td>\n",
       "      <td>0.0</td>\n",
       "      <td>0.0</td>\n",
       "      <td>0.0</td>\n",
       "      <td>...</td>\n",
       "      <td>0.0</td>\n",
       "      <td>0.0</td>\n",
       "      <td>0.0</td>\n",
       "      <td>0.0</td>\n",
       "      <td>0.0</td>\n",
       "      <td>0.0</td>\n",
       "      <td>0.0</td>\n",
       "      <td>0.0</td>\n",
       "      <td>0.0</td>\n",
       "      <td>0.0</td>\n",
       "    </tr>\n",
       "    <tr>\n",
       "      <th>12703</th>\n",
       "      <td>0.0</td>\n",
       "      <td>-0.099564</td>\n",
       "      <td>-0.251453</td>\n",
       "      <td>-0.158409</td>\n",
       "      <td>5</td>\n",
       "      <td>-0.358093</td>\n",
       "      <td>Very tasty!</td>\n",
       "      <td>0.0</td>\n",
       "      <td>0.0</td>\n",
       "      <td>0.0</td>\n",
       "      <td>...</td>\n",
       "      <td>0.0</td>\n",
       "      <td>0.0</td>\n",
       "      <td>0.0</td>\n",
       "      <td>0.0</td>\n",
       "      <td>0.0</td>\n",
       "      <td>0.0</td>\n",
       "      <td>0.0</td>\n",
       "      <td>0.0</td>\n",
       "      <td>0.0</td>\n",
       "      <td>0.0</td>\n",
       "    </tr>\n",
       "    <tr>\n",
       "      <th>12704</th>\n",
       "      <td>0.0</td>\n",
       "      <td>-0.099564</td>\n",
       "      <td>-0.251453</td>\n",
       "      <td>-0.158409</td>\n",
       "      <td>5</td>\n",
       "      <td>-0.358093</td>\n",
       "      <td>I have made this numerous times.  It&amp;#39;s so ...</td>\n",
       "      <td>0.0</td>\n",
       "      <td>0.0</td>\n",
       "      <td>0.0</td>\n",
       "      <td>...</td>\n",
       "      <td>0.0</td>\n",
       "      <td>0.0</td>\n",
       "      <td>0.0</td>\n",
       "      <td>0.0</td>\n",
       "      <td>0.0</td>\n",
       "      <td>0.0</td>\n",
       "      <td>0.0</td>\n",
       "      <td>0.0</td>\n",
       "      <td>0.0</td>\n",
       "      <td>0.0</td>\n",
       "    </tr>\n",
       "    <tr>\n",
       "      <th>12705</th>\n",
       "      <td>0.0</td>\n",
       "      <td>-0.099564</td>\n",
       "      <td>-0.251453</td>\n",
       "      <td>-0.158409</td>\n",
       "      <td>5</td>\n",
       "      <td>-0.358093</td>\n",
       "      <td>Super. I added 1/2 lb chopped bacon to mine. H...</td>\n",
       "      <td>0.0</td>\n",
       "      <td>0.0</td>\n",
       "      <td>0.0</td>\n",
       "      <td>...</td>\n",
       "      <td>0.0</td>\n",
       "      <td>0.0</td>\n",
       "      <td>0.0</td>\n",
       "      <td>0.0</td>\n",
       "      <td>0.0</td>\n",
       "      <td>0.0</td>\n",
       "      <td>0.0</td>\n",
       "      <td>0.0</td>\n",
       "      <td>0.0</td>\n",
       "      <td>0.0</td>\n",
       "    </tr>\n",
       "  </tbody>\n",
       "</table>\n",
       "<p>12706 rows × 6158 columns</p>\n",
       "</div>"
      ],
      "text/plain": [
       "       UserReputation  ReplyCount  ThumbsUpCount  ThumbsDownCount  Rating  \\\n",
       "0                 0.0   -0.099564      -0.251453         0.156674       5   \n",
       "1                 0.0   -0.099564      -0.251453        -0.158409       3   \n",
       "2                 0.0   -0.099564      -0.251453        -0.158409       5   \n",
       "3                 0.0   -0.099564      -0.251453        -0.158409       4   \n",
       "4                 0.0   -0.099564       0.002862        -0.158409       5   \n",
       "...               ...         ...            ...              ...     ...   \n",
       "12701             0.0   -0.099564      -0.251453        -0.158409       5   \n",
       "12702             0.0   -0.099564      -0.251453        -0.158409       5   \n",
       "12703             0.0   -0.099564      -0.251453        -0.158409       5   \n",
       "12704             0.0   -0.099564      -0.251453        -0.158409       5   \n",
       "12705             0.0   -0.099564      -0.251453        -0.158409       5   \n",
       "\n",
       "       BestScore                                      Recipe_Review   00   02  \\\n",
       "0      -0.358093  This is an easy and quick recipe that is great...  0.0  0.0   \n",
       "1      -0.358093  I think I was looking for something extra spec...  0.0  0.0   \n",
       "2      -0.358093  This is our favorite grilled chicken recipe.  ...  0.0  0.0   \n",
       "3      -0.358093  Great basic recipe. I added 2 teaspoons Tuscan...  0.0  0.0   \n",
       "4       0.331920   Absolutely delicious!   Easy, tasty and filling!  0.0  0.0   \n",
       "...          ...                                                ...  ...  ...   \n",
       "12701  -0.358093  Delicious!! Very easy to make! One minor chang...  0.0  0.0   \n",
       "12702  -0.358093  I made this pie for my family and they loved i...  0.0  0.0   \n",
       "12703  -0.358093                                        Very tasty!  0.0  0.0   \n",
       "12704  -0.358093  I have made this numerous times.  It&#39;s so ...  0.0  0.0   \n",
       "12705  -0.358093  Super. I added 1/2 lb chopped bacon to mine. H...  0.0  0.0   \n",
       "\n",
       "        03  ...  zipper  zippy  zoodles  zucc  zucchini  zucchinis  zuchini  \\\n",
       "0      0.0  ...     0.0    0.0      0.0   0.0       0.0        0.0      0.0   \n",
       "1      0.0  ...     0.0    0.0      0.0   0.0       0.0        0.0      0.0   \n",
       "2      0.0  ...     0.0    0.0      0.0   0.0       0.0        0.0      0.0   \n",
       "3      0.0  ...     0.0    0.0      0.0   0.0       0.0        0.0      0.0   \n",
       "4      0.0  ...     0.0    0.0      0.0   0.0       0.0        0.0      0.0   \n",
       "...    ...  ...     ...    ...      ...   ...       ...        ...      ...   \n",
       "12701  0.0  ...     0.0    0.0      0.0   0.0       0.0        0.0      0.0   \n",
       "12702  0.0  ...     0.0    0.0      0.0   0.0       0.0        0.0      0.0   \n",
       "12703  0.0  ...     0.0    0.0      0.0   0.0       0.0        0.0      0.0   \n",
       "12704  0.0  ...     0.0    0.0      0.0   0.0       0.0        0.0      0.0   \n",
       "12705  0.0  ...     0.0    0.0      0.0   0.0       0.0        0.0      0.0   \n",
       "\n",
       "       zuchinni  zucs  zuke  \n",
       "0           0.0   0.0   0.0  \n",
       "1           0.0   0.0   0.0  \n",
       "2           0.0   0.0   0.0  \n",
       "3           0.0   0.0   0.0  \n",
       "4           0.0   0.0   0.0  \n",
       "...         ...   ...   ...  \n",
       "12701       0.0   0.0   0.0  \n",
       "12702       0.0   0.0   0.0  \n",
       "12703       0.0   0.0   0.0  \n",
       "12704       0.0   0.0   0.0  \n",
       "12705       0.0   0.0   0.0  \n",
       "\n",
       "[12706 rows x 6158 columns]"
      ]
     },
     "execution_count": 147,
     "metadata": {},
     "output_type": "execute_result"
    }
   ],
   "source": [
    "new_train_data"
   ]
  },
  {
   "cell_type": "code",
   "execution_count": 148,
   "metadata": {
    "execution": {
     "iopub.execute_input": "2024-04-10T13:55:47.156496Z",
     "iopub.status.busy": "2024-04-10T13:55:47.154509Z",
     "iopub.status.idle": "2024-04-10T13:55:47.543946Z",
     "shell.execute_reply": "2024-04-10T13:55:47.542738Z",
     "shell.execute_reply.started": "2024-04-10T13:55:47.156469Z"
    },
    "trusted": true
   },
   "outputs": [
    {
     "name": "stdout",
     "output_type": "stream",
     "text": [
      "(4546, 6151)\n"
     ]
    }
   ],
   "source": [
    "# transform the 'Recipe_Review' in test data\n",
    "review_matrix_test = tf.transform(new_test_data['Recipe_Review'])\n",
    "\n",
    "# Print the shape of the transformed data\n",
    "print(review_matrix_test.shape)\n",
    "\n",
    "# Create a DataFrame with the review matrix\n",
    "review_df_test = pd.DataFrame(review_matrix_test.toarray(), columns=tf.get_feature_names_out())\n"
   ]
  },
  {
   "cell_type": "code",
   "execution_count": 149,
   "metadata": {
    "execution": {
     "iopub.execute_input": "2024-04-10T13:55:47.546330Z",
     "iopub.status.busy": "2024-04-10T13:55:47.545930Z",
     "iopub.status.idle": "2024-04-10T13:55:47.594992Z",
     "shell.execute_reply": "2024-04-10T13:55:47.594003Z",
     "shell.execute_reply.started": "2024-04-10T13:55:47.546294Z"
    },
    "trusted": true
   },
   "outputs": [
    {
     "data": {
      "text/html": [
       "<div>\n",
       "<style scoped>\n",
       "    .dataframe tbody tr th:only-of-type {\n",
       "        vertical-align: middle;\n",
       "    }\n",
       "\n",
       "    .dataframe tbody tr th {\n",
       "        vertical-align: top;\n",
       "    }\n",
       "\n",
       "    .dataframe thead th {\n",
       "        text-align: right;\n",
       "    }\n",
       "</style>\n",
       "<table border=\"1\" class=\"dataframe\">\n",
       "  <thead>\n",
       "    <tr style=\"text-align: right;\">\n",
       "      <th></th>\n",
       "      <th>00</th>\n",
       "      <th>02</th>\n",
       "      <th>03</th>\n",
       "      <th>05</th>\n",
       "      <th>08</th>\n",
       "      <th>10</th>\n",
       "      <th>100</th>\n",
       "      <th>10x</th>\n",
       "      <th>10x13</th>\n",
       "      <th>10x15</th>\n",
       "      <th>...</th>\n",
       "      <th>zipper</th>\n",
       "      <th>zippy</th>\n",
       "      <th>zoodles</th>\n",
       "      <th>zucc</th>\n",
       "      <th>zucchini</th>\n",
       "      <th>zucchinis</th>\n",
       "      <th>zuchini</th>\n",
       "      <th>zuchinni</th>\n",
       "      <th>zucs</th>\n",
       "      <th>zuke</th>\n",
       "    </tr>\n",
       "  </thead>\n",
       "  <tbody>\n",
       "    <tr>\n",
       "      <th>0</th>\n",
       "      <td>0.0</td>\n",
       "      <td>0.0</td>\n",
       "      <td>0.0</td>\n",
       "      <td>0.0</td>\n",
       "      <td>0.0</td>\n",
       "      <td>0.000000</td>\n",
       "      <td>0.0</td>\n",
       "      <td>0.0</td>\n",
       "      <td>0.0</td>\n",
       "      <td>0.0</td>\n",
       "      <td>...</td>\n",
       "      <td>0.0</td>\n",
       "      <td>0.0</td>\n",
       "      <td>0.0</td>\n",
       "      <td>0.0</td>\n",
       "      <td>0.0</td>\n",
       "      <td>0.0</td>\n",
       "      <td>0.0</td>\n",
       "      <td>0.0</td>\n",
       "      <td>0.0</td>\n",
       "      <td>0.0</td>\n",
       "    </tr>\n",
       "    <tr>\n",
       "      <th>1</th>\n",
       "      <td>0.0</td>\n",
       "      <td>0.0</td>\n",
       "      <td>0.0</td>\n",
       "      <td>0.0</td>\n",
       "      <td>0.0</td>\n",
       "      <td>0.000000</td>\n",
       "      <td>0.0</td>\n",
       "      <td>0.0</td>\n",
       "      <td>0.0</td>\n",
       "      <td>0.0</td>\n",
       "      <td>...</td>\n",
       "      <td>0.0</td>\n",
       "      <td>0.0</td>\n",
       "      <td>0.0</td>\n",
       "      <td>0.0</td>\n",
       "      <td>0.0</td>\n",
       "      <td>0.0</td>\n",
       "      <td>0.0</td>\n",
       "      <td>0.0</td>\n",
       "      <td>0.0</td>\n",
       "      <td>0.0</td>\n",
       "    </tr>\n",
       "    <tr>\n",
       "      <th>2</th>\n",
       "      <td>0.0</td>\n",
       "      <td>0.0</td>\n",
       "      <td>0.0</td>\n",
       "      <td>0.0</td>\n",
       "      <td>0.0</td>\n",
       "      <td>0.000000</td>\n",
       "      <td>0.0</td>\n",
       "      <td>0.0</td>\n",
       "      <td>0.0</td>\n",
       "      <td>0.0</td>\n",
       "      <td>...</td>\n",
       "      <td>0.0</td>\n",
       "      <td>0.0</td>\n",
       "      <td>0.0</td>\n",
       "      <td>0.0</td>\n",
       "      <td>0.0</td>\n",
       "      <td>0.0</td>\n",
       "      <td>0.0</td>\n",
       "      <td>0.0</td>\n",
       "      <td>0.0</td>\n",
       "      <td>0.0</td>\n",
       "    </tr>\n",
       "    <tr>\n",
       "      <th>3</th>\n",
       "      <td>0.0</td>\n",
       "      <td>0.0</td>\n",
       "      <td>0.0</td>\n",
       "      <td>0.0</td>\n",
       "      <td>0.0</td>\n",
       "      <td>0.000000</td>\n",
       "      <td>0.0</td>\n",
       "      <td>0.0</td>\n",
       "      <td>0.0</td>\n",
       "      <td>0.0</td>\n",
       "      <td>...</td>\n",
       "      <td>0.0</td>\n",
       "      <td>0.0</td>\n",
       "      <td>0.0</td>\n",
       "      <td>0.0</td>\n",
       "      <td>0.0</td>\n",
       "      <td>0.0</td>\n",
       "      <td>0.0</td>\n",
       "      <td>0.0</td>\n",
       "      <td>0.0</td>\n",
       "      <td>0.0</td>\n",
       "    </tr>\n",
       "    <tr>\n",
       "      <th>4</th>\n",
       "      <td>0.0</td>\n",
       "      <td>0.0</td>\n",
       "      <td>0.0</td>\n",
       "      <td>0.0</td>\n",
       "      <td>0.0</td>\n",
       "      <td>0.144895</td>\n",
       "      <td>0.0</td>\n",
       "      <td>0.0</td>\n",
       "      <td>0.0</td>\n",
       "      <td>0.0</td>\n",
       "      <td>...</td>\n",
       "      <td>0.0</td>\n",
       "      <td>0.0</td>\n",
       "      <td>0.0</td>\n",
       "      <td>0.0</td>\n",
       "      <td>0.0</td>\n",
       "      <td>0.0</td>\n",
       "      <td>0.0</td>\n",
       "      <td>0.0</td>\n",
       "      <td>0.0</td>\n",
       "      <td>0.0</td>\n",
       "    </tr>\n",
       "    <tr>\n",
       "      <th>...</th>\n",
       "      <td>...</td>\n",
       "      <td>...</td>\n",
       "      <td>...</td>\n",
       "      <td>...</td>\n",
       "      <td>...</td>\n",
       "      <td>...</td>\n",
       "      <td>...</td>\n",
       "      <td>...</td>\n",
       "      <td>...</td>\n",
       "      <td>...</td>\n",
       "      <td>...</td>\n",
       "      <td>...</td>\n",
       "      <td>...</td>\n",
       "      <td>...</td>\n",
       "      <td>...</td>\n",
       "      <td>...</td>\n",
       "      <td>...</td>\n",
       "      <td>...</td>\n",
       "      <td>...</td>\n",
       "      <td>...</td>\n",
       "      <td>...</td>\n",
       "    </tr>\n",
       "    <tr>\n",
       "      <th>4541</th>\n",
       "      <td>0.0</td>\n",
       "      <td>0.0</td>\n",
       "      <td>0.0</td>\n",
       "      <td>0.0</td>\n",
       "      <td>0.0</td>\n",
       "      <td>0.000000</td>\n",
       "      <td>0.0</td>\n",
       "      <td>0.0</td>\n",
       "      <td>0.0</td>\n",
       "      <td>0.0</td>\n",
       "      <td>...</td>\n",
       "      <td>0.0</td>\n",
       "      <td>0.0</td>\n",
       "      <td>0.0</td>\n",
       "      <td>0.0</td>\n",
       "      <td>0.0</td>\n",
       "      <td>0.0</td>\n",
       "      <td>0.0</td>\n",
       "      <td>0.0</td>\n",
       "      <td>0.0</td>\n",
       "      <td>0.0</td>\n",
       "    </tr>\n",
       "    <tr>\n",
       "      <th>4542</th>\n",
       "      <td>0.0</td>\n",
       "      <td>0.0</td>\n",
       "      <td>0.0</td>\n",
       "      <td>0.0</td>\n",
       "      <td>0.0</td>\n",
       "      <td>0.000000</td>\n",
       "      <td>0.0</td>\n",
       "      <td>0.0</td>\n",
       "      <td>0.0</td>\n",
       "      <td>0.0</td>\n",
       "      <td>...</td>\n",
       "      <td>0.0</td>\n",
       "      <td>0.0</td>\n",
       "      <td>0.0</td>\n",
       "      <td>0.0</td>\n",
       "      <td>0.0</td>\n",
       "      <td>0.0</td>\n",
       "      <td>0.0</td>\n",
       "      <td>0.0</td>\n",
       "      <td>0.0</td>\n",
       "      <td>0.0</td>\n",
       "    </tr>\n",
       "    <tr>\n",
       "      <th>4543</th>\n",
       "      <td>0.0</td>\n",
       "      <td>0.0</td>\n",
       "      <td>0.0</td>\n",
       "      <td>0.0</td>\n",
       "      <td>0.0</td>\n",
       "      <td>0.000000</td>\n",
       "      <td>0.0</td>\n",
       "      <td>0.0</td>\n",
       "      <td>0.0</td>\n",
       "      <td>0.0</td>\n",
       "      <td>...</td>\n",
       "      <td>0.0</td>\n",
       "      <td>0.0</td>\n",
       "      <td>0.0</td>\n",
       "      <td>0.0</td>\n",
       "      <td>0.0</td>\n",
       "      <td>0.0</td>\n",
       "      <td>0.0</td>\n",
       "      <td>0.0</td>\n",
       "      <td>0.0</td>\n",
       "      <td>0.0</td>\n",
       "    </tr>\n",
       "    <tr>\n",
       "      <th>4544</th>\n",
       "      <td>0.0</td>\n",
       "      <td>0.0</td>\n",
       "      <td>0.0</td>\n",
       "      <td>0.0</td>\n",
       "      <td>0.0</td>\n",
       "      <td>0.000000</td>\n",
       "      <td>0.0</td>\n",
       "      <td>0.0</td>\n",
       "      <td>0.0</td>\n",
       "      <td>0.0</td>\n",
       "      <td>...</td>\n",
       "      <td>0.0</td>\n",
       "      <td>0.0</td>\n",
       "      <td>0.0</td>\n",
       "      <td>0.0</td>\n",
       "      <td>0.0</td>\n",
       "      <td>0.0</td>\n",
       "      <td>0.0</td>\n",
       "      <td>0.0</td>\n",
       "      <td>0.0</td>\n",
       "      <td>0.0</td>\n",
       "    </tr>\n",
       "    <tr>\n",
       "      <th>4545</th>\n",
       "      <td>0.0</td>\n",
       "      <td>0.0</td>\n",
       "      <td>0.0</td>\n",
       "      <td>0.0</td>\n",
       "      <td>0.0</td>\n",
       "      <td>0.000000</td>\n",
       "      <td>0.0</td>\n",
       "      <td>0.0</td>\n",
       "      <td>0.0</td>\n",
       "      <td>0.0</td>\n",
       "      <td>...</td>\n",
       "      <td>0.0</td>\n",
       "      <td>0.0</td>\n",
       "      <td>0.0</td>\n",
       "      <td>0.0</td>\n",
       "      <td>0.0</td>\n",
       "      <td>0.0</td>\n",
       "      <td>0.0</td>\n",
       "      <td>0.0</td>\n",
       "      <td>0.0</td>\n",
       "      <td>0.0</td>\n",
       "    </tr>\n",
       "  </tbody>\n",
       "</table>\n",
       "<p>4546 rows × 6151 columns</p>\n",
       "</div>"
      ],
      "text/plain": [
       "       00   02   03   05   08        10  100  10x  10x13  10x15  ...  zipper  \\\n",
       "0     0.0  0.0  0.0  0.0  0.0  0.000000  0.0  0.0    0.0    0.0  ...     0.0   \n",
       "1     0.0  0.0  0.0  0.0  0.0  0.000000  0.0  0.0    0.0    0.0  ...     0.0   \n",
       "2     0.0  0.0  0.0  0.0  0.0  0.000000  0.0  0.0    0.0    0.0  ...     0.0   \n",
       "3     0.0  0.0  0.0  0.0  0.0  0.000000  0.0  0.0    0.0    0.0  ...     0.0   \n",
       "4     0.0  0.0  0.0  0.0  0.0  0.144895  0.0  0.0    0.0    0.0  ...     0.0   \n",
       "...   ...  ...  ...  ...  ...       ...  ...  ...    ...    ...  ...     ...   \n",
       "4541  0.0  0.0  0.0  0.0  0.0  0.000000  0.0  0.0    0.0    0.0  ...     0.0   \n",
       "4542  0.0  0.0  0.0  0.0  0.0  0.000000  0.0  0.0    0.0    0.0  ...     0.0   \n",
       "4543  0.0  0.0  0.0  0.0  0.0  0.000000  0.0  0.0    0.0    0.0  ...     0.0   \n",
       "4544  0.0  0.0  0.0  0.0  0.0  0.000000  0.0  0.0    0.0    0.0  ...     0.0   \n",
       "4545  0.0  0.0  0.0  0.0  0.0  0.000000  0.0  0.0    0.0    0.0  ...     0.0   \n",
       "\n",
       "      zippy  zoodles  zucc  zucchini  zucchinis  zuchini  zuchinni  zucs  zuke  \n",
       "0       0.0      0.0   0.0       0.0        0.0      0.0       0.0   0.0   0.0  \n",
       "1       0.0      0.0   0.0       0.0        0.0      0.0       0.0   0.0   0.0  \n",
       "2       0.0      0.0   0.0       0.0        0.0      0.0       0.0   0.0   0.0  \n",
       "3       0.0      0.0   0.0       0.0        0.0      0.0       0.0   0.0   0.0  \n",
       "4       0.0      0.0   0.0       0.0        0.0      0.0       0.0   0.0   0.0  \n",
       "...     ...      ...   ...       ...        ...      ...       ...   ...   ...  \n",
       "4541    0.0      0.0   0.0       0.0        0.0      0.0       0.0   0.0   0.0  \n",
       "4542    0.0      0.0   0.0       0.0        0.0      0.0       0.0   0.0   0.0  \n",
       "4543    0.0      0.0   0.0       0.0        0.0      0.0       0.0   0.0   0.0  \n",
       "4544    0.0      0.0   0.0       0.0        0.0      0.0       0.0   0.0   0.0  \n",
       "4545    0.0      0.0   0.0       0.0        0.0      0.0       0.0   0.0   0.0  \n",
       "\n",
       "[4546 rows x 6151 columns]"
      ]
     },
     "execution_count": 149,
     "metadata": {},
     "output_type": "execute_result"
    }
   ],
   "source": [
    "review_df_test"
   ]
  },
  {
   "cell_type": "code",
   "execution_count": 150,
   "metadata": {
    "execution": {
     "iopub.execute_input": "2024-04-10T13:55:47.596506Z",
     "iopub.status.busy": "2024-04-10T13:55:47.596157Z",
     "iopub.status.idle": "2024-04-10T13:55:47.602248Z",
     "shell.execute_reply": "2024-04-10T13:55:47.601385Z",
     "shell.execute_reply.started": "2024-04-10T13:55:47.596474Z"
    },
    "trusted": true
   },
   "outputs": [
    {
     "data": {
      "text/plain": [
       "(4546, 6)"
      ]
     },
     "execution_count": 150,
     "metadata": {},
     "output_type": "execute_result"
    }
   ],
   "source": [
    "new_test_data.shape"
   ]
  },
  {
   "cell_type": "code",
   "execution_count": 151,
   "metadata": {
    "execution": {
     "iopub.execute_input": "2024-04-10T13:55:47.604137Z",
     "iopub.status.busy": "2024-04-10T13:55:47.603518Z",
     "iopub.status.idle": "2024-04-10T13:55:48.046305Z",
     "shell.execute_reply": "2024-04-10T13:55:48.045308Z",
     "shell.execute_reply.started": "2024-04-10T13:55:47.604103Z"
    },
    "trusted": true
   },
   "outputs": [],
   "source": [
    "new_test_data = pd.concat([new_test_data.reset_index(drop=True), review_df_test.reset_index(drop=True)], axis=1)"
   ]
  },
  {
   "cell_type": "code",
   "execution_count": 152,
   "metadata": {
    "execution": {
     "iopub.execute_input": "2024-04-10T13:55:48.047925Z",
     "iopub.status.busy": "2024-04-10T13:55:48.047525Z",
     "iopub.status.idle": "2024-04-10T13:55:48.054594Z",
     "shell.execute_reply": "2024-04-10T13:55:48.053707Z",
     "shell.execute_reply.started": "2024-04-10T13:55:48.047889Z"
    },
    "trusted": true
   },
   "outputs": [
    {
     "data": {
      "text/plain": [
       "(4546, 6157)"
      ]
     },
     "execution_count": 152,
     "metadata": {},
     "output_type": "execute_result"
    }
   ],
   "source": [
    "new_test_data.shape"
   ]
  },
  {
   "cell_type": "code",
   "execution_count": 153,
   "metadata": {
    "execution": {
     "iopub.execute_input": "2024-04-10T13:55:48.056646Z",
     "iopub.status.busy": "2024-04-10T13:55:48.056006Z",
     "iopub.status.idle": "2024-04-10T13:55:48.135193Z",
     "shell.execute_reply": "2024-04-10T13:55:48.134266Z",
     "shell.execute_reply.started": "2024-04-10T13:55:48.056608Z"
    },
    "trusted": true
   },
   "outputs": [],
   "source": [
    "new_test_data.columns = new_test_data.columns.astype(str)\n",
    "new_test_data = new_test_data.drop(['Recipe_Review'], axis=1)"
   ]
  },
  {
   "cell_type": "markdown",
   "metadata": {},
   "source": [
    "# Performing split on train_data and test_data\n",
    "\n",
    "Since the 'test_data.csv' file lacks a 'Rating' column, we'll only split the 'train_data' file to create datasets for prediction and accuracy evaluation."
   ]
  },
  {
   "cell_type": "code",
   "execution_count": 154,
   "metadata": {
    "execution": {
     "iopub.execute_input": "2024-04-10T13:55:48.136834Z",
     "iopub.status.busy": "2024-04-10T13:55:48.136436Z",
     "iopub.status.idle": "2024-04-10T13:55:48.142469Z",
     "shell.execute_reply": "2024-04-10T13:55:48.141613Z",
     "shell.execute_reply.started": "2024-04-10T13:55:48.136800Z"
    },
    "id": "Aavm8CYK5Wgy",
    "trusted": true
   },
   "outputs": [],
   "source": [
    "\n",
    "new_train_data.columns = new_train_data.columns.astype(str)\n"
   ]
  },
  {
   "cell_type": "code",
   "execution_count": 155,
   "metadata": {
    "execution": {
     "iopub.execute_input": "2024-04-10T13:55:48.144149Z",
     "iopub.status.busy": "2024-04-10T13:55:48.143680Z",
     "iopub.status.idle": "2024-04-10T13:55:48.334856Z",
     "shell.execute_reply": "2024-04-10T13:55:48.333783Z",
     "shell.execute_reply.started": "2024-04-10T13:55:48.144122Z"
    },
    "id": "MgYUXnSb5oKA",
    "trusted": true
   },
   "outputs": [],
   "source": [
    "\n",
    "X = new_train_data.drop(['Rating', 'Recipe_Review'], axis=1)\n",
    "y = new_train_data['Rating']\n",
    "\n"
   ]
  },
  {
   "cell_type": "code",
   "execution_count": 156,
   "metadata": {
    "execution": {
     "iopub.execute_input": "2024-04-10T13:55:48.336228Z",
     "iopub.status.busy": "2024-04-10T13:55:48.335951Z",
     "iopub.status.idle": "2024-04-10T13:55:48.780215Z",
     "shell.execute_reply": "2024-04-10T13:55:48.779281Z",
     "shell.execute_reply.started": "2024-04-10T13:55:48.336205Z"
    },
    "id": "9VnbvgJg5fcO",
    "trusted": true
   },
   "outputs": [
    {
     "data": {
      "text/plain": [
       "((10164, 6156), (2542, 6156), (10164,), (2542,))"
      ]
     },
     "execution_count": 156,
     "metadata": {},
     "output_type": "execute_result"
    }
   ],
   "source": [
    "from sklearn.model_selection import train_test_split\n",
    "\n",
    "# Split the data into training and testing sets\n",
    "X_train, X_test, y_train, y_test = train_test_split(X, y, test_size=0.2, random_state=42)\n",
    "X_train.shape, X_test.shape, y_train.shape, y_test.shape"
   ]
  },
  {
   "cell_type": "code",
   "execution_count": 157,
   "metadata": {
    "execution": {
     "iopub.execute_input": "2024-04-10T13:55:48.782056Z",
     "iopub.status.busy": "2024-04-10T13:55:48.781638Z",
     "iopub.status.idle": "2024-04-10T13:55:58.349058Z",
     "shell.execute_reply": "2024-04-10T13:55:58.343132Z",
     "shell.execute_reply.started": "2024-04-10T13:55:48.782018Z"
    },
    "trusted": true
   },
   "outputs": [
    {
     "name": "stderr",
     "output_type": "stream",
     "text": [
      "c:\\Users\\fkvdn\\AppData\\Local\\Programs\\Python\\Python312\\Lib\\site-packages\\sklearn\\svm\\_classes.py:31: FutureWarning: The default value of `dual` will change from `True` to `'auto'` in 1.5. Set the value of `dual` explicitly to suppress the warning.\n",
      "  warnings.warn(\n"
     ]
    },
    {
     "name": "stdout",
     "output_type": "stream",
     "text": [
      "Classification Report:\n",
      "               precision    recall  f1-score   support\n",
      "\n",
      "           0       0.40      0.15      0.22       246\n",
      "           1       0.39      0.17      0.24        41\n",
      "           2       0.42      0.15      0.22        33\n",
      "           3       0.38      0.14      0.21        69\n",
      "           4       0.36      0.14      0.20       224\n",
      "           5       0.81      0.97      0.88      1929\n",
      "\n",
      "    accuracy                           0.77      2542\n",
      "   macro avg       0.46      0.29      0.33      2542\n",
      "weighted avg       0.71      0.77      0.72      2542\n",
      "\n",
      "Accuracy using Model_1:  0.7714398111723053\n"
     ]
    },
    {
     "name": "stderr",
     "output_type": "stream",
     "text": [
      "c:\\Users\\fkvdn\\AppData\\Local\\Programs\\Python\\Python312\\Lib\\site-packages\\sklearn\\svm\\_base.py:1237: ConvergenceWarning: Liblinear failed to converge, increase the number of iterations.\n",
      "  warnings.warn(\n"
     ]
    }
   ],
   "source": [
    "from sklearn.svm import LinearSVC\n",
    "from sklearn.metrics import accuracy_score, classification_report, confusion_matrix\n",
    "\n",
    "# Create a LinearSVC classifier\n",
    "model_1 = LinearSVC(max_iter=2500)\n",
    "\n",
    "# Fit the classifier to the train_dataing data\n",
    "model_1.fit(X_train, y_train)\n",
    "\n",
    "# Predict on the test_data data\n",
    "y_pred_model_1 = model_1.predict(X_test)\n",
    "\n",
    "\n",
    "# Printing classification_report and accuracy_score \n",
    "report = classification_report(y_test, y_pred_model_1)\n",
    "print(\"Classification Report:\\n\", report)\n",
    "print(\"Accuracy using Model_1: \", accuracy_score(y_test, y_pred_model_1))\n"
   ]
  },
  {
   "cell_type": "code",
   "execution_count": 158,
   "metadata": {
    "execution": {
     "iopub.execute_input": "2024-04-10T13:55:58.351354Z",
     "iopub.status.busy": "2024-04-10T13:55:58.350595Z",
     "iopub.status.idle": "2024-04-10T13:58:36.594325Z",
     "shell.execute_reply": "2024-04-10T13:58:36.593380Z",
     "shell.execute_reply.started": "2024-04-10T13:55:58.351308Z"
    },
    "trusted": true
   },
   "outputs": [
    {
     "name": "stdout",
     "output_type": "stream",
     "text": [
      "Classification Report:\n",
      "               precision    recall  f1-score   support\n",
      "\n",
      "           0       0.40      0.15      0.22       246\n",
      "           1       0.39      0.17      0.24        41\n",
      "           2       0.42      0.15      0.22        33\n",
      "           3       0.38      0.14      0.21        69\n",
      "           4       0.36      0.14      0.20       224\n",
      "           5       0.81      0.97      0.88      1929\n",
      "\n",
      "    accuracy                           0.77      2542\n",
      "   macro avg       0.46      0.29      0.33      2542\n",
      "weighted avg       0.71      0.77      0.72      2542\n",
      "\n",
      "Accuracy using Model_2:  0.7686860739575138\n"
     ]
    }
   ],
   "source": [
    "from sklearn.ensemble import RandomForestClassifier\n",
    "\n",
    "# Create a Random Forest classifier\n",
    "model_2 = RandomForestClassifier(n_estimators=500)\n",
    "\n",
    "# Fit the classifier to the train_dataing data\n",
    "model_2.fit(X_train, y_train)\n",
    "\n",
    "# Predict on the test_data data\n",
    "y_pred_model_2 = model_2.predict(X_test)\n",
    "\n",
    "# Printing classification_report and accuracy_score \n",
    "report = classification_report(y_test, y_pred_model_1)\n",
    "print(\"Classification Report:\\n\", report)\n",
    "print(\"Accuracy using Model_2: \", accuracy_score(y_test, y_pred_model_2))\n"
   ]
  },
  {
   "cell_type": "code",
   "execution_count": 159,
   "metadata": {
    "execution": {
     "iopub.execute_input": "2024-04-10T13:58:36.596515Z",
     "iopub.status.busy": "2024-04-10T13:58:36.595858Z",
     "iopub.status.idle": "2024-04-10T13:59:27.885795Z",
     "shell.execute_reply": "2024-04-10T13:59:27.882489Z",
     "shell.execute_reply.started": "2024-04-10T13:58:36.596476Z"
    },
    "id": "QN_pnOTuIOlR",
    "outputId": "afa42b49-e830-40cd-8bc8-da4e7f5d60e4",
    "trusted": true
   },
   "outputs": [
    {
     "name": "stdout",
     "output_type": "stream",
     "text": [
      "Classification Report:\n",
      "               precision    recall  f1-score   support\n",
      "\n",
      "           0       0.44      0.09      0.15       246\n",
      "           1       0.44      0.10      0.16        41\n",
      "           2       0.00      0.00      0.00        33\n",
      "           3       0.36      0.07      0.12        69\n",
      "           4       0.57      0.09      0.16       224\n",
      "           5       0.79      0.99      0.88      1929\n",
      "\n",
      "    accuracy                           0.77      2542\n",
      "   macro avg       0.43      0.22      0.25      2542\n",
      "weighted avg       0.71      0.77      0.70      2542\n",
      "\n",
      "Accuracy using Model_3:  0.7726199842643587\n"
     ]
    }
   ],
   "source": [
    "from sklearn.linear_model import LogisticRegression\n",
    "\n",
    "# Create a Logistic Regression classifier   \n",
    "model_3 = LogisticRegression(max_iter=1500)\n",
    "\n",
    "# Fit the classifier to the train_dataing data\n",
    "model_3.fit(X_train, y_train)\n",
    "\n",
    "# Predict on the test_data data\n",
    "y_pred_model_3 = model_3.predict(X_test)\n",
    "\n",
    "# Printing classification_report and accuracy_score \n",
    "report = classification_report(y_test, y_pred_model_3)\n",
    "print(\"Classification Report:\\n\", report)\n",
    "print(\"Accuracy using Model_3: \", accuracy_score(y_test, y_pred_model_3))"
   ]
  },
  {
   "cell_type": "code",
   "execution_count": 160,
   "metadata": {
    "execution": {
     "iopub.execute_input": "2024-04-10T13:59:27.891168Z",
     "iopub.status.busy": "2024-04-10T13:59:27.887285Z",
     "iopub.status.idle": "2024-04-10T14:05:26.745528Z",
     "shell.execute_reply": "2024-04-10T14:05:26.744665Z",
     "shell.execute_reply.started": "2024-04-10T13:59:27.891132Z"
    },
    "trusted": true
   },
   "outputs": [
    {
     "name": "stdout",
     "output_type": "stream",
     "text": [
      "Classification Report:\n",
      "               precision    recall  f1-score   support\n",
      "\n",
      "           0       0.40      0.04      0.07       246\n",
      "           1       0.22      0.12      0.16        41\n",
      "           2       0.20      0.09      0.12        33\n",
      "           3       0.36      0.12      0.18        69\n",
      "           4       0.36      0.04      0.07       224\n",
      "           5       0.78      0.99      0.87      1929\n",
      "\n",
      "    accuracy                           0.76      2542\n",
      "   macro avg       0.39      0.23      0.24      2542\n",
      "weighted avg       0.68      0.76      0.69      2542\n",
      "\n",
      "Accuracy using Model_4:  0.7635719905586152\n"
     ]
    }
   ],
   "source": [
    "from sklearn.ensemble import GradientBoostingClassifier\n",
    "\n",
    "# Create a Gradient Boosting Classifier\n",
    "model_4 = GradientBoostingClassifier()\n",
    "\n",
    "# Fit the classifier to the train_dataing data\n",
    "model_4.fit(X_train,y_train)\n",
    "\n",
    "# Predict on the test_data data\n",
    "y_pred_model_4 = model_4.predict(X_test)\n",
    "\n",
    "# Printing classification_report and accuracy_score \n",
    "report = classification_report(y_test, y_pred_model_4)\n",
    "print(\"Classification Report:\\n\", report)\n",
    "print(\"Accuracy using Model_4: \", accuracy_score(y_test, y_pred_model_4))\n"
   ]
  },
  {
   "cell_type": "code",
   "execution_count": 161,
   "metadata": {
    "execution": {
     "iopub.execute_input": "2024-04-10T14:05:26.747075Z",
     "iopub.status.busy": "2024-04-10T14:05:26.746790Z"
    },
    "trusted": true
   },
   "outputs": [],
   "source": [
    "# from sklearn.model_selection import RandomizedSearchCV\n",
    "\n",
    "# # Defining the parameters\n",
    "# param_distributions=[{'max_depth':[2,4,6,8,10],'learning_rate':[0.001,0.01,0.1],'n_estimators':[50,100,150]}]\n",
    "\n",
    "# # Creating Randomized Search CV on model_4(GradientBoostingClassifier)\n",
    "# model_5 = RandomizedSearchCV(model_4,param_distributions=param_distributions,scoring='neg_mean_absolute_error',n_iter =10,random_state=0,n_jobs=-1,)\n",
    "\n",
    "# # Fit the RandomizedSearchCV on the train_dataing data\n",
    "# model_5.fit(X_train,y_train)\n",
    "\n",
    "# # Predict on the test_data data\n",
    "# y_pred_model_5 = model_5.predict(X_test)\n",
    "\n",
    "# # Printing classification_report and accuracy_score \n",
    "# report = classification_report(y_test, y_pred_model_5)\n",
    "# print(\"Classification Report:\\n\", report)\n",
    "# print(\"Accuracy using Model_5: \", accuracy_score(y_test, y_pred_model_5))\n"
   ]
  },
  {
   "cell_type": "code",
   "execution_count": 162,
   "metadata": {
    "id": "T12iH0xv_z2K",
    "trusted": true
   },
   "outputs": [
    {
     "name": "stdout",
     "output_type": "stream",
     "text": [
      "Classification Report:\n",
      "               precision    recall  f1-score   support\n",
      "\n",
      "           0       0.45      0.16      0.23       246\n",
      "           1       0.60      0.29      0.39        41\n",
      "           2       0.36      0.12      0.18        33\n",
      "           3       0.36      0.13      0.19        69\n",
      "           4       0.32      0.11      0.16       224\n",
      "           5       0.80      0.97      0.88      1929\n",
      "\n",
      "    accuracy                           0.77      2542\n",
      "   macro avg       0.48      0.30      0.34      2542\n",
      "weighted avg       0.71      0.77      0.72      2542\n",
      "\n",
      "Accuracy using Model_6:  0.7698662470495673\n"
     ]
    }
   ],
   "source": [
    "from xgboost import XGBClassifier\n",
    "\n",
    "# Create a XGBoost classifier\n",
    "model_6 = XGBClassifier(n_estimators=500)\n",
    "\n",
    "# Fit the classifier to the train_dataing data\n",
    "model_6.fit(X_train, y_train)\n",
    "\n",
    "# Predict on the test_data data\n",
    "y_pred_model_6 = model_6.predict(X_test)\n",
    "\n",
    "# Printing classification_report and accuracy_score \n",
    "report = classification_report(y_test, y_pred_model_6)\n",
    "print(\"Classification Report:\\n\", report)\n",
    "print(\"Accuracy using Model_6: \", accuracy_score(y_test, y_pred_model_6))\n"
   ]
  },
  {
   "cell_type": "code",
   "execution_count": 163,
   "metadata": {
    "trusted": true
   },
   "outputs": [],
   "source": [
    "from sklearn.ensemble import StackingClassifier\n",
    "from sklearn.linear_model import LogisticRegression\n",
    "from sklearn.ensemble import RandomForestClassifier\n",
    "from sklearn.svm import LinearSVC\n",
    "from xgboost import XGBClassifier\n",
    "from sklearn.metrics import accuracy_score, classification_report\n"
   ]
  },
  {
   "cell_type": "code",
   "execution_count": 164,
   "metadata": {
    "id": "G3VJVO9oLK9h",
    "outputId": "ce6d8102-15c3-4171-b1b9-166729809eb6",
    "trusted": true
   },
   "outputs": [
    {
     "name": "stderr",
     "output_type": "stream",
     "text": [
      "c:\\Users\\fkvdn\\AppData\\Local\\Programs\\Python\\Python312\\Lib\\site-packages\\sklearn\\svm\\_classes.py:31: FutureWarning: The default value of `dual` will change from `True` to `'auto'` in 1.5. Set the value of `dual` explicitly to suppress the warning.\n",
      "  warnings.warn(\n",
      "c:\\Users\\fkvdn\\AppData\\Local\\Programs\\Python\\Python312\\Lib\\site-packages\\sklearn\\svm\\_base.py:1237: ConvergenceWarning: Liblinear failed to converge, increase the number of iterations.\n",
      "  warnings.warn(\n",
      "c:\\Users\\fkvdn\\AppData\\Local\\Programs\\Python\\Python312\\Lib\\site-packages\\sklearn\\svm\\_classes.py:31: FutureWarning: The default value of `dual` will change from `True` to `'auto'` in 1.5. Set the value of `dual` explicitly to suppress the warning.\n",
      "  warnings.warn(\n",
      "c:\\Users\\fkvdn\\AppData\\Local\\Programs\\Python\\Python312\\Lib\\site-packages\\sklearn\\svm\\_base.py:1237: ConvergenceWarning: Liblinear failed to converge, increase the number of iterations.\n",
      "  warnings.warn(\n",
      "c:\\Users\\fkvdn\\AppData\\Local\\Programs\\Python\\Python312\\Lib\\site-packages\\sklearn\\svm\\_classes.py:31: FutureWarning: The default value of `dual` will change from `True` to `'auto'` in 1.5. Set the value of `dual` explicitly to suppress the warning.\n",
      "  warnings.warn(\n",
      "c:\\Users\\fkvdn\\AppData\\Local\\Programs\\Python\\Python312\\Lib\\site-packages\\sklearn\\svm\\_base.py:1237: ConvergenceWarning: Liblinear failed to converge, increase the number of iterations.\n",
      "  warnings.warn(\n",
      "c:\\Users\\fkvdn\\AppData\\Local\\Programs\\Python\\Python312\\Lib\\site-packages\\sklearn\\svm\\_classes.py:31: FutureWarning: The default value of `dual` will change from `True` to `'auto'` in 1.5. Set the value of `dual` explicitly to suppress the warning.\n",
      "  warnings.warn(\n",
      "c:\\Users\\fkvdn\\AppData\\Local\\Programs\\Python\\Python312\\Lib\\site-packages\\sklearn\\svm\\_base.py:1237: ConvergenceWarning: Liblinear failed to converge, increase the number of iterations.\n",
      "  warnings.warn(\n",
      "c:\\Users\\fkvdn\\AppData\\Local\\Programs\\Python\\Python312\\Lib\\site-packages\\sklearn\\svm\\_classes.py:31: FutureWarning: The default value of `dual` will change from `True` to `'auto'` in 1.5. Set the value of `dual` explicitly to suppress the warning.\n",
      "  warnings.warn(\n",
      "c:\\Users\\fkvdn\\AppData\\Local\\Programs\\Python\\Python312\\Lib\\site-packages\\sklearn\\svm\\_base.py:1237: ConvergenceWarning: Liblinear failed to converge, increase the number of iterations.\n",
      "  warnings.warn(\n",
      "c:\\Users\\fkvdn\\AppData\\Local\\Programs\\Python\\Python312\\Lib\\site-packages\\sklearn\\svm\\_classes.py:31: FutureWarning: The default value of `dual` will change from `True` to `'auto'` in 1.5. Set the value of `dual` explicitly to suppress the warning.\n",
      "  warnings.warn(\n",
      "c:\\Users\\fkvdn\\AppData\\Local\\Programs\\Python\\Python312\\Lib\\site-packages\\sklearn\\svm\\_base.py:1237: ConvergenceWarning: Liblinear failed to converge, increase the number of iterations.\n",
      "  warnings.warn(\n"
     ]
    },
    {
     "name": "stdout",
     "output_type": "stream",
     "text": [
      "Classification Report:\n",
      "               precision    recall  f1-score   support\n",
      "\n",
      "           0       0.47      0.16      0.24       246\n",
      "           1       0.39      0.29      0.33        41\n",
      "           2       0.67      0.06      0.11        33\n",
      "           3       0.28      0.16      0.20        69\n",
      "           4       0.55      0.10      0.17       224\n",
      "           5       0.81      0.98      0.89      1929\n",
      "\n",
      "    accuracy                           0.78      2542\n",
      "   macro avg       0.53      0.29      0.32      2542\n",
      "weighted avg       0.73      0.78      0.72      2542\n",
      "\n",
      "Accuracy using Model_7:  0.7797010228166797\n"
     ]
    }
   ],
   "source": [
    "# Define the base models\n",
    "estimators = [\n",
    "    ('rf', RandomForestClassifier(n_estimators=500)),\n",
    "    ('svc', LinearSVC(max_iter=10000)),\n",
    "    ('xgb', XGBClassifier(n_estimators=1000))\n",
    "]\n",
    "\n",
    "# Define the final model\n",
    "final_estimator = LogisticRegression(max_iter=1500)\n",
    "\n",
    "# Create the stacking classifier\n",
    "model_7 = StackingClassifier(\n",
    "    estimators=estimators,\n",
    "    final_estimator=final_estimator\n",
    ")\n",
    "\n",
    "# Fit the classifier to the train_dataing data\n",
    "model_7.fit(X_train, y_train)\n",
    "\n",
    "# Predict on the test_data data\n",
    "y_pred_model_7 = model_7.predict(X_test)\n",
    "\n",
    "# Printing classification_report and accuracy_score \n",
    "report = classification_report(y_test, y_pred_model_7)\n",
    "print(\"Classification Report:\\n\", report)\n",
    "print(\"Accuracy using Model_7: \", accuracy_score(y_test, y_pred_model_7))\n"
   ]
  },
  {
   "cell_type": "code",
   "execution_count": 165,
   "metadata": {
    "trusted": true
   },
   "outputs": [
    {
     "name": "stderr",
     "output_type": "stream",
     "text": [
      "c:\\Users\\fkvdn\\AppData\\Local\\Programs\\Python\\Python312\\Lib\\site-packages\\sklearn\\svm\\_classes.py:31: FutureWarning: The default value of `dual` will change from `True` to `'auto'` in 1.5. Set the value of `dual` explicitly to suppress the warning.\n",
      "  warnings.warn(\n",
      "c:\\Users\\fkvdn\\AppData\\Local\\Programs\\Python\\Python312\\Lib\\site-packages\\sklearn\\svm\\_base.py:1237: ConvergenceWarning: Liblinear failed to converge, increase the number of iterations.\n",
      "  warnings.warn(\n",
      "c:\\Users\\fkvdn\\AppData\\Local\\Programs\\Python\\Python312\\Lib\\site-packages\\sklearn\\svm\\_classes.py:31: FutureWarning: The default value of `dual` will change from `True` to `'auto'` in 1.5. Set the value of `dual` explicitly to suppress the warning.\n",
      "  warnings.warn(\n",
      "c:\\Users\\fkvdn\\AppData\\Local\\Programs\\Python\\Python312\\Lib\\site-packages\\sklearn\\svm\\_base.py:1237: ConvergenceWarning: Liblinear failed to converge, increase the number of iterations.\n",
      "  warnings.warn(\n",
      "c:\\Users\\fkvdn\\AppData\\Local\\Programs\\Python\\Python312\\Lib\\site-packages\\sklearn\\svm\\_classes.py:31: FutureWarning: The default value of `dual` will change from `True` to `'auto'` in 1.5. Set the value of `dual` explicitly to suppress the warning.\n",
      "  warnings.warn(\n",
      "c:\\Users\\fkvdn\\AppData\\Local\\Programs\\Python\\Python312\\Lib\\site-packages\\sklearn\\svm\\_base.py:1237: ConvergenceWarning: Liblinear failed to converge, increase the number of iterations.\n",
      "  warnings.warn(\n",
      "c:\\Users\\fkvdn\\AppData\\Local\\Programs\\Python\\Python312\\Lib\\site-packages\\sklearn\\svm\\_classes.py:31: FutureWarning: The default value of `dual` will change from `True` to `'auto'` in 1.5. Set the value of `dual` explicitly to suppress the warning.\n",
      "  warnings.warn(\n",
      "c:\\Users\\fkvdn\\AppData\\Local\\Programs\\Python\\Python312\\Lib\\site-packages\\sklearn\\svm\\_base.py:1237: ConvergenceWarning: Liblinear failed to converge, increase the number of iterations.\n",
      "  warnings.warn(\n",
      "c:\\Users\\fkvdn\\AppData\\Local\\Programs\\Python\\Python312\\Lib\\site-packages\\sklearn\\svm\\_classes.py:31: FutureWarning: The default value of `dual` will change from `True` to `'auto'` in 1.5. Set the value of `dual` explicitly to suppress the warning.\n",
      "  warnings.warn(\n",
      "c:\\Users\\fkvdn\\AppData\\Local\\Programs\\Python\\Python312\\Lib\\site-packages\\sklearn\\svm\\_base.py:1237: ConvergenceWarning: Liblinear failed to converge, increase the number of iterations.\n",
      "  warnings.warn(\n",
      "c:\\Users\\fkvdn\\AppData\\Local\\Programs\\Python\\Python312\\Lib\\site-packages\\sklearn\\svm\\_classes.py:31: FutureWarning: The default value of `dual` will change from `True` to `'auto'` in 1.5. Set the value of `dual` explicitly to suppress the warning.\n",
      "  warnings.warn(\n",
      "c:\\Users\\fkvdn\\AppData\\Local\\Programs\\Python\\Python312\\Lib\\site-packages\\sklearn\\svm\\_base.py:1237: ConvergenceWarning: Liblinear failed to converge, increase the number of iterations.\n",
      "  warnings.warn(\n"
     ]
    },
    {
     "name": "stdout",
     "output_type": "stream",
     "text": [
      "Classification Report:\n",
      "               precision    recall  f1-score   support\n",
      "\n",
      "           0       0.44      0.16      0.24       246\n",
      "           1       0.42      0.37      0.39        41\n",
      "           2       0.36      0.12      0.18        33\n",
      "           3       0.30      0.14      0.20        69\n",
      "           4       0.46      0.14      0.21       224\n",
      "           5       0.82      0.98      0.89      1929\n",
      "\n",
      "    accuracy                           0.78      2542\n",
      "   macro avg       0.47      0.32      0.35      2542\n",
      "weighted avg       0.72      0.78      0.73      2542\n",
      "\n",
      "Accuracy using Model_8:  0.7812745869394178\n"
     ]
    }
   ],
   "source": [
    "# Define the base models\n",
    "estimators = [\n",
    "    ('lr', LogisticRegression(max_iter=1500)),\n",
    "    ('svc', LinearSVC(max_iter=2500)),\n",
    "    ('xgb', XGBClassifier(n_estimators=1000))\n",
    "]\n",
    "\n",
    "# Define the final model\n",
    "final_estimator = RandomForestClassifier(n_estimators=500)\n",
    "\n",
    "# Create the stacking classifier\n",
    "model_8 = StackingClassifier(\n",
    "    estimators=estimators,\n",
    "    final_estimator=final_estimator\n",
    ")\n",
    "\n",
    "# Fit the classifier to the train_dataing data\n",
    "model_8.fit(X_train, y_train)\n",
    "\n",
    "# Predict on the test_data data\n",
    "y_pred_model_8 = model_8.predict(X_test)\n",
    "\n",
    "# Printing classification_report and accuracy_score \n",
    "report = classification_report(y_test, y_pred_model_8)\n",
    "print(\"Classification Report:\\n\", report)\n",
    "print(\"Accuracy using Model_8: \", accuracy_score(y_test, y_pred_model_8))\n",
    "\n"
   ]
  },
  {
   "cell_type": "code",
   "execution_count": 166,
   "metadata": {
    "trusted": true
   },
   "outputs": [
    {
     "name": "stdout",
     "output_type": "stream",
     "text": [
      "Classification Report:\n",
      "               precision    recall  f1-score   support\n",
      "\n",
      "           0       0.76      0.05      0.10       246\n",
      "           1       1.00      0.02      0.05        41\n",
      "           2       1.00      0.03      0.06        33\n",
      "           3       0.50      0.01      0.03        69\n",
      "           4       1.00      0.03      0.05       224\n",
      "           5       0.77      1.00      0.87      1929\n",
      "\n",
      "    accuracy                           0.77      2542\n",
      "   macro avg       0.84      0.19      0.19      2542\n",
      "weighted avg       0.79      0.77      0.67      2542\n",
      "\n",
      "Accuracy using Model_9:  0.7655389457120377\n"
     ]
    }
   ],
   "source": [
    "from sklearn.neighbors import KNeighborsClassifier\n",
    "model_9=KNeighborsClassifier(n_neighbors=250,weights=\"distance\",leaf_size=300,p=5)\n",
    "\n",
    "# Fit the classifier to the train_dataing data\n",
    "model_9.fit(X_train,y_train)\n",
    "\n",
    "# Predict on the test_data data\n",
    "y_pred_model_9 = model_9.predict(X_test)\n",
    "\n",
    "# Printing classification_report and accuracy_score \n",
    "report = classification_report(y_test, y_pred_model_9)\n",
    "print(\"Classification Report:\\n\", report)\n",
    "print(\"Accuracy using Model_9: \", accuracy_score(y_test, y_pred_model_9))\n",
    "\n"
   ]
  },
  {
   "cell_type": "code",
   "execution_count": 167,
   "metadata": {
    "trusted": true
   },
   "outputs": [
    {
     "name": "stderr",
     "output_type": "stream",
     "text": [
      "c:\\Users\\fkvdn\\AppData\\Local\\Programs\\Python\\Python312\\Lib\\site-packages\\sklearn\\linear_model\\_sag.py:350: ConvergenceWarning: The max_iter was reached which means the coef_ did not converge\n",
      "  warnings.warn(\n",
      "c:\\Users\\fkvdn\\AppData\\Local\\Programs\\Python\\Python312\\Lib\\site-packages\\sklearn\\svm\\_classes.py:31: FutureWarning: The default value of `dual` will change from `True` to `'auto'` in 1.5. Set the value of `dual` explicitly to suppress the warning.\n",
      "  warnings.warn(\n",
      "c:\\Users\\fkvdn\\AppData\\Local\\Programs\\Python\\Python312\\Lib\\site-packages\\sklearn\\svm\\_base.py:1237: ConvergenceWarning: Liblinear failed to converge, increase the number of iterations.\n",
      "  warnings.warn(\n"
     ]
    },
    {
     "name": "stdout",
     "output_type": "stream",
     "text": [
      "Classification Report:\n",
      "               precision    recall  f1-score   support\n",
      "\n",
      "           0       0.42      0.10      0.16       246\n",
      "           1       0.40      0.10      0.16        41\n",
      "           2       0.50      0.03      0.06        33\n",
      "           3       0.42      0.12      0.18        69\n",
      "           4       0.49      0.08      0.14       224\n",
      "           5       0.79      0.99      0.88      1929\n",
      "\n",
      "    accuracy                           0.77      2542\n",
      "   macro avg       0.50      0.24      0.26      2542\n",
      "weighted avg       0.71      0.77      0.70      2542\n",
      "\n",
      "Accuracy using Model_10:  0.7718332022029898\n"
     ]
    }
   ],
   "source": [
    "from sklearn.linear_model import LogisticRegression\n",
    "from sklearn.linear_model import RidgeClassifier\n",
    "from sklearn.svm import LinearSVC\n",
    "from sklearn.ensemble import VotingClassifier\n",
    "\n",
    "model_reg= LogisticRegression(solver='saga',max_iter=1000,C=10)\n",
    "model_ridge=RidgeClassifier(max_iter=10000, alpha=1.0)\n",
    "model_svm=LinearSVC(C=0.1)\n",
    "\n",
    "model_10=VotingClassifier(\n",
    "    estimators=[\n",
    "        ('reg', model_reg),\n",
    "        ('ridge_clf', model_ridge),\n",
    "        ('svm', model_svm)\n",
    "    ],\n",
    "    voting='hard'\n",
    ")\n",
    "# Fit the classifier to the train_dataing data\n",
    "model_10.fit(X_train,y_train)\n",
    "\n",
    "# Predict on the test_data data\n",
    "y_pred_model_10 = model_10.predict(X_test)\n",
    "\n",
    "# Printing classification_report and accuracy_score \n",
    "report = classification_report(y_test, y_pred_model_10)\n",
    "print(\"Classification Report:\\n\", report)\n",
    "print(\"Accuracy using Model_10: \", accuracy_score(y_test, y_pred_model_10))\n"
   ]
  },
  {
   "cell_type": "markdown",
   "metadata": {},
   "source": [
    "## After training 10 models\n",
    "- model_7 which is  StackingClassifier with final estimators as LogisticRegression and support estimators RandomForestClassifier,LinearSVC and XGBClassifier gives the highest accuracy."
   ]
  },
  {
   "cell_type": "code",
   "execution_count": 170,
   "metadata": {},
   "outputs": [],
   "source": [
    "accuracy_1 = accuracy_score(y_test, y_pred_model_1)\n",
    "\n",
    "accuracy_2 = accuracy_score(y_test, y_pred_model_2)\n",
    "\n",
    "accuracy_3 = accuracy_score(y_test, y_pred_model_3)\n",
    "\n",
    "accuracy_4 = accuracy_score(y_test, y_pred_model_4)\n",
    "\n",
    "# accuracy_5 = accuracy_score(y_test, y_pred_model_5)\n",
    "\n",
    "accuracy_6 = accuracy_score(y_test, y_pred_model_6)\n",
    "\n",
    "accuracy_7 = accuracy_score(y_test, y_pred_model_7)\n",
    "\n",
    "accuracy_8 = accuracy_score(y_test, y_pred_model_8)\n",
    "\n",
    "accuracy_9 = accuracy_score(y_test, y_pred_model_9)\n",
    "\n",
    "accuracy_10 = accuracy_score(y_test, y_pred_model_10)\n"
   ]
  },
  {
   "cell_type": "code",
   "execution_count": 175,
   "metadata": {},
   "outputs": [
    {
     "data": {
      "image/png": "[encoded data removed]",
      "text/plain": [
       "<Figure size 1000x600 with 1 Axes>"
      ]
     },
     "metadata": {},
     "output_type": "display_data"
    }
   ],
   "source": [
    "#plotting the graph for the coparision of models\n",
    "\n",
    "\n",
    "model_names = ['Logistic Regression', 'Stacking Classifier 1', 'Stacking Classifier 2','Voting Classifier' ]\n",
    "\n",
    "\n",
    "accuracies = [accuracy_3, accuracy_7, accuracy_8, accuracy_10]\n",
    "\n",
    "\n",
    "plt.figure(figsize=(10, 6))\n",
    "plt.bar(model_names, accuracies, color=['blue', 'green', 'red', 'yellow'])\n",
    "\n",
    "\n",
    "plt.title('top 4 Models Comparison')\n",
    "plt.xlabel('Model')\n",
    "plt.ylabel('Test Set Accuracy')\n",
    "plt.ylim(0.77,0.79,)\n",
    "\n",
    "# Show the plot\n",
    "plt.show()\n"
   ]
  },
  {
   "cell_type": "markdown",
   "metadata": {},
   "source": [
    "# Saving the final submission file\n",
    "\n",
    "while keeping in mind that we had 2 columns , 'ID' and 'Rating' in the sample.csv file , we need to create a similar submission file. One more thing to keep in mind is , 'ID' column starts from 1 and not 0."
   ]
  },
  {
   "cell_type": "code",
   "execution_count": 168,
   "metadata": {
    "trusted": true
   },
   "outputs": [],
   "source": [
    "submission = pd.DataFrame(model_7.predict(new_test_data), columns=['Rating'])\n",
    "submission.index.name = 'ID'\n",
    "# Add 1 to the index to start from 1 instead of 0\n",
    "submission.index += 1\n",
    "submission.to_csv(\"submission.csv\", encoding='utf-8')\n",
    "\n",
    "output = pd.read_csv(\"submission.csv\")"
   ]
  }
 ],
 "metadata": {
  "accelerator": "GPU",
  "colab": {
   "gpuType": "T4",
   "provenance": []
  },
  "kaggle": {
   "accelerator": "none",
   "dataSources": [
    {
     "databundleVersionId": 7452256,
     "sourceId": 67079,
     "sourceType": "competition"
    }
   ],
   "dockerImageVersionId": 30635,
   "isGpuEnabled": false,
   "isInternetEnabled": true,
   "language": "python",
   "sourceType": "notebook"
  },
  "kernelspec": {
   "display_name": "Python 3",
   "language": "python",
   "name": "python3"
  },
  "language_info": {
   "codemirror_mode": {
    "name": "ipython",
    "version": 3
   },
   "file_extension": ".py",
   "mimetype": "text/x-python",
   "name": "python",
   "nbconvert_exporter": "python",
   "pygments_lexer": "ipython3",
   "version": "3.12.1"
  }
 },
 "nbformat": 4,
 "nbformat_minor": 4
}
